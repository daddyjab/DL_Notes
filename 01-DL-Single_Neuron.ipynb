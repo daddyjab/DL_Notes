{
 "cells": [
  {
   "cell_type": "code",
   "execution_count": null,
   "metadata": {},
   "outputs": [],
   "source": []
  },
  {
   "cell_type": "markdown",
   "metadata": {},
   "source": [
    "# Deep Learning Notes - Implementation of a Single Neuron"
   ]
  },
  {
   "cell_type": "markdown",
   "metadata": {},
   "source": [
    "This Jupyter Notebook provides a Python implementation of a single neuron, which will be used for Logistic Regression to recognize a single digit \"8\"."
   ]
  },
  {
   "cell_type": "markdown",
   "metadata": {},
   "source": [
    "## <font color=\"blue\">Representation of a Single Neuron</font>\n",
    "A single <b>Neuron</b> (<b>Node</b>) can be represented as shown in Figure DL-01-A: Representation of a Single Neuron.\n",
    "<P>\n",
    "\n",
    "| Figure DL-01-A: Representation of a Single Neuron |\n",
    "|:----------:|\n",
    "| ![Figure DL-01-A: Representation of a Single Neuron is Loading...](docs/DL-01-Figure-A-Single_Neuron.png \"Figure DL-01-A: Representation of a Single Neuron \") |\n",
    "\n",
    "\n",
    "### For this single neuron representation:\n",
    "    \n",
    "| Element | Description | Single Example (m=1) | Multiple Examples (m>1) |\n",
    "|:------:|:-----------:|:--------------------:|:-----------------------:|\n",
    "| Input<br>$x$ or $X$ | Input values representing one or more training or testing example | Vector $x$ of $n_x$ values with dimensions $(n_x$ rows$~\\times~1$ column$) \\to$ shape $(n_x,~1)$ | Matrix $X$ with dimensions $(n_x$ rows [values] $\\times~m$ columns [examples] $)~\\to$ shape $(n_x,~m)$ |\n",
    "| Output<br>$a$ or $\\widehat{y}$ | Output approximating the actual label value $y$ that corresponds to the input $x$ | Scalar value $a~=~\\widehat{y}$ with dimensions $(1,~1)$ | Vector $a~=~\\widehat{y}$ with dimensions $(1$ row [value] $\\times~m$ columns [examples] $)~\\to$ shape $(1,~m)$ |\n",
    "| Weights<br>$w$ | Weighting coefficients associated with each of the $n_x$ input values | Vector $w$ with dimensions $(n_x$ rows$~\\times~1$ column$) \\to$ shape $(n_x,~1)$ | (Same as for single example ) |\n",
    "| Bias<br>$b$ | Bias coefficient that is independent of the $n_x$ input values | Scalar value $b$ with dimensions $(1,~1)$ | (Same as for single example) |\n",
    "| The factor<br>$z$ | The linear function $z~=~w^T x+b$ |  |  |\n",
    "| Activation Function<br>$g(z)$ | A function which transforms the output of the linear function $z$ and is generally a nonlinear function such as: sigmoid $\\sigma$, ReLU, TanH, etc.<br>See the section below: \"[Activation Functions](#section_activation_functions)\" |  |  |"
   ]
  },
  {
   "cell_type": "markdown",
   "metadata": {},
   "source": [
    "## <font color=\"blue\">Forward and Backward Propagation</font>\n",
    "<P>\n",
    "The accurancy of this neuron's prediction $\\widehat{y}$ can be maximized by first defining a Loss function $\\mathscr{L}(\\widehat{y},~y)$ that indicates the distance of the prediction $\\widehat{y}$ from the actual label value $y$ for one or more training examples.  An optimization algorithm (such as Gradient Descent) can then be used to approach a set of weight $w$ and bias $b$ coefficient values such that an overall Cost function is minimized.\n",
    "    \n",
    "* <b>Forward Propagation</b> is used to calculate the value of the output prediction $a~=~\\widehat{y}$, as well as the overall cost using the Cost function $J(w,~b)$ underlying Loss function $\\mathscr{L}(\\widehat{y},~y)$.\n",
    "* <b>Backward Propagation</b> is used to calculate the deratives of the Cost function and adjust the coefficients $w$ and $b$ to optimize the overall Cost to a minimum.\n",
    "\n",
    "<P>\n",
    "The Figure DL-01-B: Forward and Backward Propagation provides an indication of the direction of calculation in our single neuron model for forward and backward propagation.\n",
    "<P>\n",
    "\n",
    "| Figure DL-01-B: Forward and Backward Propagation |\n",
    "|:----------:|\n",
    "| ![Figure DL-01-B: Forward and Backward Propagation is Loading...](docs/DL-01-Figure-B-Forward_and_Backward_Propagation.png \"Figure DL-01-B: Forward and Backward Propagation \") |"
   ]
  },
  {
   "cell_type": "markdown",
   "metadata": {},
   "source": [
    "<a id='section_activation_functions'></a>\n",
    "##  <font color=\"blue\">Activation Functions</font>\n",
    "There are many different types of <b>Activation functions</b>, each with their own characteristics of interest.  These functions are general non-linear.  A linear function has a constant derative, and as a results our optimization algorithm, which depends upon the deratives to change based upon the input values, would not converge as expected.\n",
    "\n",
    "Some selected activation functions:\n",
    "\n",
    "| Activation Function | Definition | Derivative |\n",
    "|:-------------------:|:-----------:|:---------:|\n",
    "| [Sigmoid](https://en.wikipedia.org/wiki/Logistic_function)<br>$\\sigma$ | $g(z)~=~\\sigma(z)~=~{ {1} \\over {1 + e^{-z} } }$ | $g'(z)~=~\\sigma'(z)~=~\\sigma(z)(1-\\sigma(z))$ |\n",
    "| [Rectified Linear Unit](https://en.wikipedia.org/wiki/Rectifier_(neural_networks))<br>(ReLU) | $g(z)~=~max(0,z)~=~\\lbrace~{{0~for~z\\le 0} \\atop {z~for~z>0} }$ | $g'(z)~=~\\lbrace~{{0~for~z\\le 0} \\atop {1~for~z>0} }$ |\n",
    "| [Hyperbolic Tangent](https://en.wikipedia.org/wiki/Hyperbolic_function#Hyperbolic_tangent)<br>(TanH) | $g(z)~=~tanh(z)~=~\\frac{e^z - e^{-z}}{e^z + e^{-z}}~=~\\frac{e^{2z} - 1}{e^{2z} + 1}$ | $g'(z)~=~tanh'(z)~=~1-f(z)^2$ |\n",
    "|-------------------|-------------------------------------------------------|-----------------------------------------------------|\n",
    "\n",
    "For this exploration, the Sigmoid $\\sigma$ will be used as the activation function\n",
    "\n",
    "Additional information on activation functions, including [Softmax](https://en.wikipedia.org/wiki/Softmax_function), is available at:\n",
    "[Comparison of Activation Functions (Wikipedia)](https://en.wikipedia.org/wiki/Activation_function#Comparison_of_activation_functions)"
   ]
  },
  {
   "cell_type": "markdown",
   "metadata": {},
   "source": [
    "<a id='section_loss_and_cost_functions'></a>\n",
    "##  <font color=\"blue\">Loss Function</font>\n",
    "As noted previously, a <b>Loss function</b> $\\mathscr{L}(\\widehat{y},~y)$ quantifies the distance of the prediction $\\widehat{y}$ from the actual label value $y$ for one or more training examples, which is needed to optimize the set of coefficients used by the neuron.\n",
    "\n",
    "For this single neuron case, the [Logistic Loss](https://en.wikipedia.org/wiki/Loss_functions_for_classification#Logistic_loss) function will be used as the Loss function:<br><br>\n",
    "&nbsp;&nbsp;&nbsp;&nbsp;\n",
    "$\\mathscr{L}(\\widehat{y},~y)~=~-(y\\log{(\\widehat{y})}+(1-y)\\log{(1-\\widehat{y})}$\n",
    "<br><br>\n",
    "or using nomenclature $a~=~\\widehat{y}$:<br><br>\n",
    "&nbsp;&nbsp;&nbsp;&nbsp;\n",
    "$\\mathscr{L}(a,~y)~=~-(y\\log{(a)}+(1-y)\\log{(1-a)}$\n",
    "\n",
    "For a single example and a given set of coefficients $w$ and $b$, the loss is $\\mathscr{L}(\\widehat{y},~y)$.\n",
    "\n",
    "##  <font color=\"blue\">Cost Function</font>\n",
    "For multiple examples, the <b>Cost function</b> for coefficients $w$ and $b$ is defined as $J(w,~b)$, the average Logistic loss across all of the samples is given by:<br><br>\n",
    "&nbsp;&nbsp;&nbsp;&nbsp;\n",
    "$\\eqalignno {\n",
    "J(w,~b)\n",
    "~&=~ {1 \\over m} \\sum_{i=1}^m \\mathscr{L}(\\widehat{y}^{(i)},~y^{(i)})\\cr\n",
    "~&=~ - {1 \\over m} \\sum_{i=1}^m \\left [ ( y^{(i)} \\log{(\\widehat{y}^{(i)})}+(1-y^{(i)}) \\log{(1-\\widehat{y}^{(i)})} \\right ]\n",
    "}$\n",
    "\n",
    "<br>\n",
    "or using nomenclature $a~=~\\widehat{y}$:<br><br>\n",
    "&nbsp;&nbsp;&nbsp;&nbsp;\n",
    "$J(w,~b)~=~ - {1 \\over m} \\sum_{i=1}^m \\left [ ( y^{(i)} \\log{(a^{(i)})}+(1-y^{(i)}) \\log{(1-a^{(i)})} \\right ] $\n",
    "\n",
    "Additional information on loss functions, including [Loss functions for classification](https://en.wikipedia.org/wiki/Loss_functions_for_classification), is available at:\n",
    "[Loss function (Wikipedia)](https://en.wikipedia.org/wiki/Loss_function)\n"
   ]
  },
  {
   "cell_type": "markdown",
   "metadata": {},
   "source": [
    "##  <font color=\"blue\">Forward Propagation Calculations</font>\n",
    "As noted earlier, <b>Forward Propagation</b> is used to calculate the output $a$ and the Cost function $J(w,~b)$ (using the Loss function $\\mathscr{L}(a,~y)$).\n",
    "\n",
    "For m examples, using `python` and `numpy`:\n",
    "* Linear equation: $Z~=~w^T X+b$\n",
    "   \n",
    "```\n",
    "# Calculate the linear equation - vectorized: Z ~ shape(1,m)\n",
    "Z = np.dot(w.T,X)+b\n",
    "```\n",
    "<br>\n",
    "    \n",
    "* Output from the Activation function: $a~=~ \\widehat{y} ~=~ \\sigma (z)~=~{ {1} \\over {1 + e^{-z} } }$\n",
    "\n",
    "```\n",
    "# Define the sigmoid function - vectorized\n",
    "def sigmoid(v):\n",
    "    return 1 / (1 + np.exp(-v) )\n",
    "    \n",
    "# Calculate the output prediction from the sigmoid of the linear function - vectorized: A and Z ~ shape(1,m)\n",
    "A = sigmoid(Z)\n",
    "```\n",
    "<br>\n",
    "* Cost function: $J(w,~b)~=~ - {1 \\over m} \\sum_{i=1}^m \\left [ ( y^{(i)} \\log{(a^{(i)})}+(1-y^{(i)}) \\log{(1-a^{(i)})} \\right ]$ \n",
    " \n",
    "```\n",
    "# Calculate the overall cost (vectorized) - vectorized: A and Y ~ shape(1,m), J ~ scalar\n",
    "J = (1/m) * np.sum( Y*np.log(A) + (1-Y)*np.log(1-A) )\n",
    "```"
   ]
  },
  {
   "cell_type": "markdown",
   "metadata": {},
   "source": [
    "<a id='section_optimization'></a>\n",
    "##  <font color=\"blue\">Optimization using Gradient Descent</font>\n",
    "This exploration, the gradient descent algorithm will be used to optimize the coeffients $w$ and $b$.\n",
    "\n",
    "The Cost function $J(w,~b)$ is used for the optimization, with the gradient of the cost function at any point determining the next set of adjustments required of the coefficients $w$ and $b$ to move towards the miminum of the Cost function.\n",
    "\n",
    "The gradient of the Cost function at a point is the set of partial derivatives of the cost function at that point for each of the coefficients $w$ and $b$:<br>\n",
    "\n",
    "${{ \\partial J(w,~b) } \\over {\\partial w}}$ &nbsp;&nbsp;and&nbsp;&nbsp; ${{ \\partial J(w,~b) } \\over {\\partial b}}$\n",
    "\n",
    "These partial deriatives can then be multiplied by a Learning Rate factor $\\alpha$ to adjust the coefficients:<br><br>\n",
    "&nbsp;&nbsp;&nbsp;&nbsp;\n",
    "$w~=~w - \\alpha {{ \\partial J(w,~b) } \\over {\\partial w}}$, and<br><br>\n",
    "&nbsp;&nbsp;&nbsp;&nbsp;\n",
    "$b~=~b - \\alpha {{ \\partial J(w,~b) } \\over {\\partial b}}$\n",
    "\n",
    "The effect of this is that relatively larger gradient values (i.e., steeper slope towards or away from the minimum) will cause larger adjustments to the coefficients.  As the gradient approaches 0 (the minimum), its decreasing value results in smaller and smaller adjustments to the coefficients.\n",
    "\n",
    "Additional information on the gradient descent algorithm is available at:\n",
    "[Gradient descent (Wikipedia)](https://en.wikipedia.org/wiki/Gradient_descent)\n"
   ]
  },
  {
   "cell_type": "markdown",
   "metadata": {},
   "source": [
    "##  <font color=\"blue\">Backward Propagation Calculations</font>\n",
    "Recalling several points:\n",
    "* Linear equation: $z~=~w^T x+b$\n",
    "* Output from the Activation function: $a~=~ \\widehat{y} ~=~ \\sigma (z)~=~{ {1} \\over {1 + e^{-z} } }$\n",
    "* Logistic loss function: $\\mathscr{L}(a,~y)~=~-(y\\log{(a)}+(1-y)\\log{(1-a)}$\n",
    "* Cost function: $J(w,~b)~=~ - {1 \\over m} \\sum_{i=1}^m \\left [ ( y^{(i)} \\log{(a^{(i)})}+(1-y^{(i)}) \\log{(1-a^{(i)})} \\right ]$\n",
    "\n",
    "The relationship between the various factors can be represented as:<br><br>\n",
    "&nbsp;&nbsp;&nbsp;&nbsp;\n",
    "$(w, b, x) \\to z \\to a \\to \\mathscr{L}$\n",
    "\n",
    "The partial deratives for ${{ \\partial J(w,~b) } \\over {\\partial w}}$ and ${{ \\partial J(w,~b) } \\over {\\partial b}}$ for $w$ and $b$ can be obtain working stepwise \"backwards\" (right-to-left) through the differentation, starting with the Loss function:<br><br>\n",
    "\n",
    "$\\eqalignno {\n",
    "{ {\\partial \\mathscr{L}(a,~y)} \\over {\\partial a} } ~&=~ - { y \\over a } + { (1-y) \\over (1-a) } &(1)\\cr\\cr\n",
    "{ {\\partial \\mathscr{L}(a,~y)} \\over {\\partial z} } ~&=~\n",
    "    { {\\partial \\mathscr{L}(a,~y)} \\over {\\partial a} } \\cdot\n",
    "    { {\\partial a } \\over {\\partial z} } ~=~\n",
    "    \\left [ - { y \\over a } + { (1-y) \\over (1-a) } \\right ] \\cdot \\left [ a(1-a) \\right ] ~=~\n",
    "    a-y\n",
    "    &(2)\\cr\\cr\n",
    "{ {\\partial \\mathscr{L}(a,~y)} \\over {\\partial w} } ~&=~\n",
    "    { {\\partial \\mathscr{L}(a,~y)} \\over {\\partial z} } \\cdot { {\\partial z } \\over {\\partial w} } ~=~\n",
    "    { {\\partial \\mathscr{L}(a,~y)} \\over {\\partial z} } \\cdot \\left [ x \\right ] ~=~\n",
    "    \\left [ a-y \\right ] \\cdot \\left [ x \\right ] ~=~\n",
    "    x(a-y)\n",
    "    ~ \\left ( =~ x \\cdot { {\\partial \\mathscr{L}(a,~y)} \\over {\\partial z} } \\right )\n",
    "    &(3)\\cr\n",
    "{ {\\partial \\mathscr{L}(a,~y)} \\over {\\partial b} } ~&=~\n",
    "    { {\\partial \\mathscr{L}(a,~y)} \\over {\\partial z} } \\cdot { {\\partial z } \\over {\\partial b} } ~=~\n",
    "    { {\\partial \\mathscr{L}(a,~y)} \\over {\\partial z} } \\cdot \\left [ 1 \\right ] ~=~\n",
    "    \\left [ a-y \\right ] \\cdot \\left [ 1 \\right ] ~=~\n",
    "    a-y\n",
    "    ~ \\left ( =~ { {\\partial \\mathscr{L}(a,~y)} \\over {\\partial z} } \\right )\n",
    "    &(4)\\cr\\cr\n",
    "{ {\\partial J(w,~b)} \\over {\\partial w} } ~&=~\n",
    "    {1 \\over m} \\sum_{i=1}^m \\left [ { {\\partial \\mathscr{L}(a,~y)} \\over {\\partial w}} \\right ] ~=~\n",
    "    {1 \\over m} \\sum_{i=1}^m \\left [ x \\cdot { {\\partial \\mathscr{L}(a,~y)} \\over {\\partial z} } \\right ] ~=~    \n",
    "    {1 \\over m} \\sum_{i=1}^m \\left [ x(a-y) \\right ]    \n",
    "    &(5)\\cr\n",
    "{ {\\partial J(w,~b)} \\over {\\partial b} } ~&=~\n",
    "    {1 \\over m} \\sum_{i=1}^m \\left [ { {\\partial \\mathscr{L}(a,~y)} \\over {\\partial b}} \\right ] ~=~\n",
    "    {1 \\over m} \\sum_{i=1}^m \\left [ { {\\partial \\mathscr{L}(a,~y)} \\over {\\partial z} } \\right ] ~=~    \n",
    "    {1 \\over m} \\sum_{i=1}^m \\left [ a-y \\right ]    \n",
    "    &(6)\\cr\n",
    "}$\n",
    "\n",
    "Recalling the equations used to adjust the coefficients using Learning Rate $\\alpha$:<br><br>\n",
    "&nbsp;&nbsp;&nbsp;&nbsp;\n",
    "$w~=~w - \\alpha {{ \\partial J(w,~b) } \\over {\\partial w}}$, and<br><br>\n",
    "&nbsp;&nbsp;&nbsp;&nbsp;\n",
    "$b~=~b - \\alpha {{ \\partial J(w,~b) } \\over {\\partial b}}$\n",
    "\n",
    "We can now calculate the iterative adjustments needed to the coefficients to minimize the cost.\n",
    "\n",
    "For m examples, using `python` and `numpy`:\n",
    "* `dz` = ${ {\\partial \\mathscr{L}(a,~y)} \\over {\\partial z} }$:\n",
    "\n",
    "```\n",
    "# Calculate the partial derivative of Loss by z\n",
    "dz = A - Y\n",
    "```\n",
    "<br>\n",
    "    \n",
    "* `dw` = ${ {\\partial \\mathscr{L}(a,~y)} \\over {\\partial w} }$:\n",
    "\n",
    "```\n",
    "# Calculate the partial derivative of Loss by w\n",
    "dw = np.dot(X,dz)\n",
    "```\n",
    "<br>\n",
    "    \n",
    "* `db` = ${ {\\partial \\mathscr{L}(a,~y)} \\over {\\partial b} }$:\n",
    "\n",
    "```\n",
    "# Calculate the partial derivative of Loss by b\n",
    "db = dz\n",
    "```\n",
    "<br>\n",
    "\n",
    "* Adjustment to coefficients $w$ and $b$:\n",
    "\n",
    "```\n",
    "# Adjust the coefficients w and b\n",
    "w = w - alpha * dw\n",
    "b = b - alpha * db\n",
    "```\n",
    "\n",
    "The optimization is then implemented using a loop to iterate through the available training samples (in batches) and update the coefficients until the target number of iterations or the target training accuracy is reached."
   ]
  },
  {
   "cell_type": "code",
   "execution_count": null,
   "metadata": {},
   "outputs": [],
   "source": []
  },
  {
   "cell_type": "markdown",
   "metadata": {},
   "source": [
    "# Dependencies"
   ]
  },
  {
   "cell_type": "code",
   "execution_count": 202,
   "metadata": {
    "nbpresent": {
     "id": "828c2e12-b1c6-4994-8f55-ce86373b6c97"
    },
    "scrolled": true,
    "slideshow": {
     "slide_type": "fragment"
    }
   },
   "outputs": [],
   "source": [
    "# Jeff's \"standard\" list of libraries to import  - overkill, but keeping them all for convenience... :)\n",
    "\n",
    "%matplotlib inline\n",
    "# %matplotlib notebook\n",
    "import matplotlib.pyplot as plt\n",
    "from mpl_toolkits.mplot3d import Axes3D    # Support 3D graphing\n",
    "\n",
    "import numpy as np\n",
    "import pandas as pd\n",
    "from pandas.plotting import table\n",
    "import math\n",
    "import random\n",
    "\n",
    "from pprint import pprint\n",
    "\n",
    "\n",
    "# Visualization\n",
    "import graphviz\n",
    "import pydotplus\n",
    "\n",
    "from IPython.display import Image\n",
    "\n",
    "# # Machine Learning - Data Preparation and Pre-Processing\n",
    "# from sklearn.model_selection import train_test_split # Split data into training and testing samples\n",
    "# from sklearn.model_selection import cross_val_score  # Score a model using k-fold or other cross validation\n",
    "\n",
    "# from sklearn.preprocessing import OneHotEncoder   # Convert categorical integer features (X) to One-Hot encoded values\n",
    "# from sklearn.preprocessing import LabelEncoder    # Convert categorical labeled values to categorical integer values\n",
    "# from sklearn.preprocessing import LabelBinarizer  # Convert categorical labeled values to Binary encoded values\n",
    "\n",
    "from sklearn.preprocessing import StandardScaler  # Scale numerical features to standard normal distribution\n",
    "from sklearn.preprocessing import MinMaxScaler    # Scale numerical values based upon mix/max values\n",
    "\n",
    "# # Machine Learning - Sci-Kit Learn - Models - Regression\n",
    "# from sklearn.linear_model import LinearRegression  # TBD\n",
    "# from sklearn.linear_model import Lasso             # TBD\n",
    "# from sklearn.linear_model import Ridge             # TBD\n",
    "# from sklearn.linear_model import ElasticNet        # TBD\n",
    "\n",
    "# # Machine Learning - Sci-Kit Learn - Models - Classification\n",
    "# from sklearn.linear_model import LogisticRegression   # Logistic Regression Classifier\n",
    "# from sklearn import tree                              # Decision Tree Classifier\n",
    "# from sklearn.ensemble import RandomForestClassifier   # Random Forest Classifier\n",
    "# from sklearn import svm                               # Support Vector Machine Classifier\n",
    "# from sklearn.neighbors import KNeighborsClassifier    # K-Nearest Neighbors (KNN)\n",
    "\n",
    "# # Machine Learning - GridSearch for Hyper-Parameter tuning\n",
    "# from sklearn.model_selection import GridSearchCV      # Grid Search\n",
    "\n",
    "# # Machine Learning - Quantify Model Performance\n",
    "# from sklearn.metrics import mean_squared_error    # Mean Squared Error (MSE) metric\n",
    "# from sklearn.metrics import r2_score              # R-squared (Coefficient of Determination) metric\n",
    "# from sklearn.metrics import confusion_matrix      # Generate a confusion matrix (actual vs. predicted counts)\n",
    "# from sklearn.metrics import classification_report # Calculate metrics for prediction performance\n",
    "# from sklearn.metrics import precision_score       # Calculate the precision: Tp / (Tp + Fp) => Ability to avoid false negatives\n",
    "# from sklearn.metrics import recall_score          # Calculate the recall: Tp / (Tp + Fn) => Ability to find all positive samples\n",
    "# from sklearn.metrics import f1_score              # Calculate the F1 score: 2*(precision*recall)/(precision+recall)\n",
    "\n",
    "# # Machine Learning - Dataset Generation\n",
    "# from sklearn.datasets import make_regression     # Generate linear data\n",
    "# from sklearn.datasets import make_s_curve        # Generate nonlinear data\n",
    "# from sklearn.datasets import make_blobs          # Generate blobs for classification\n",
    "# from sklearn.datasets import make_circles        # Generate circles for classification\n",
    "# from sklearn.datasets import load_iris           # Sample multi-class dataset for classification\n",
    "# from sklearn.datasets import make_classification # Generate datasets for classification\n",
    "\n",
    "# # Machine Learning - Keras (Tensorflow) - Models\n",
    "# from keras.models import Sequential               # Sequential model serving as foundation for neural network\n",
    "# from keras.layers import Dense                    # Nodes for specifying input, hidden, and output layers\n",
    "\n",
    "# # Machine Learning - Keras (Tensorflow) - Encoding\n",
    "# from keras.utils import to_categorical            # One-Hot Encoder provided through Keras\n",
    "\n",
    "# # Machine Learning - Keras (Tensorflow) - Other related Tools\n",
    "# from keras.utils import plot_model                # Plot a neural network model\n",
    "# from keras.models import load_model               # Load a saved machine learning model\n",
    "# from keras.preprocessing import image             # Loads an image for application of machine learning\n",
    "# from keras.preprocessing.image import img_to_array # Converts an image to a numpy array\n",
    "\n",
    "# Machine Learning - Keras (Tensorflow) -  Dataset Generation\n",
    "from keras.datasets import mnist                  # Images: Handwritten digits 0-9 (28x28 grayscale, 60K train, 10K test)"
   ]
  },
  {
   "cell_type": "code",
   "execution_count": null,
   "metadata": {},
   "outputs": [],
   "source": []
  },
  {
   "cell_type": "markdown",
   "metadata": {},
   "source": [
    "# Handwritten Digits 0-9 Dataset"
   ]
  },
  {
   "cell_type": "markdown",
   "metadata": {},
   "source": [
    "### Function to Plot Lists of Digits"
   ]
  },
  {
   "cell_type": "code",
   "execution_count": 133,
   "metadata": {},
   "outputs": [],
   "source": [
    "# Function to plot a list of up to 10 digits on a single subplot\n",
    "def plot_digit_list( a_X_list = None, a_y_list = None, a_find_all_digits = False):\n",
    "    # The first 10 digits from the specified list\n",
    "    \n",
    "    # If no list is specified then return None        \n",
    "    if (a_X_list is None):\n",
    "        return None\n",
    "    \n",
    "    else:\n",
    "        X_list = list(a_X_list)\n",
    "        \n",
    "    if (a_y_list is None):\n",
    "        return None\n",
    "    \n",
    "    else:\n",
    "        y_list = list(a_y_list)\n",
    "        \n",
    "    # Find All Digits flag\n",
    "    #   If True => Find and plot all digits 0-9 within the list, starting at index 0\n",
    "    #   If False => Plot up to the first 10 digits in the list\n",
    "    if a_find_all_digits:\n",
    "\n",
    "        # Flag is True: Get indices of samples for each of the digits 0-9 within the 1000 sample subset\n",
    "        # If the digit is not present in the input list then move on to the next digit\n",
    "        d_i_list = []\n",
    "        for d in range(10):\n",
    "            \n",
    "            try:\n",
    "                # Add the index at which this digit can be found to the list\n",
    "                d_i_list.append( y_list.index(d) )\n",
    "                \n",
    "            except ValueError:\n",
    "                # Digit is not present in the input list -- move on to the next digit\n",
    "                pass\n",
    "\n",
    "    else:\n",
    "        # Flag is False: Get the indices for up to the first 10 values in the list\n",
    "        d_i_list = range( min(10, len(y_list) ))\n",
    "    \n",
    "    # The iterpolation method to use for ploting the digit images\n",
    "    i_type_selected = 'lanczos'\n",
    "\n",
    "    print(\"Indices:\", d_i_list)\n",
    "\n",
    "    # Plot Classification Performance results: Best Score vs. Mean Fit Time (ms)\n",
    "    fig = plt.figure(figsize=(20,9))\n",
    "\n",
    "    # Create subplots for each of the sampled digits\n",
    "    for i in range(len(d_i_list)):\n",
    "        # Create a subplot for this iteration\n",
    "        ax = fig.add_subplot( math.ceil(len(d_i_list)/min(5, len(d_i_list))), min(5, len(d_i_list)), i+1 )\n",
    "\n",
    "        # Display a note for each subplot\n",
    "        point_text = f\"Label: {y_list[d_i_list[i]]}\"\n",
    "        point_text += f\"\\nSample Index: {d_i_list[i]}\"\n",
    "    #     ax.text(1, 2+1.4*point_text.count(\"\\n\"), point_text )\n",
    "        ax.set_title(point_text)\n",
    "\n",
    "        # Display the image\n",
    "        ax.imshow(X_list[d_i_list[i]], cmap=plt.cm.Greys, interpolation=i_type_selected)\n",
    "        \n",
    "    # Return the number of digits plotted\n",
    "    return i+1"
   ]
  },
  {
   "cell_type": "markdown",
   "metadata": {},
   "source": [
    "### Load the MNIST Handwritten Digit Dataset"
   ]
  },
  {
   "cell_type": "code",
   "execution_count": 189,
   "metadata": {},
   "outputs": [
    {
     "name": "stdout",
     "output_type": "stream",
     "text": [
      "(60000, 28, 28) (60000,) (10000, 28, 28) (10000,)\n"
     ]
    }
   ],
   "source": [
    "# Import the Keras MNIST handwritten digits sample dataset\n",
    "(X_train, y_train), (X_test, y_test) = mnist.load_data()\n",
    "print(X_train.shape, y_train.shape, X_test.shape, y_test.shape)"
   ]
  },
  {
   "cell_type": "code",
   "execution_count": 135,
   "metadata": {},
   "outputs": [
    {
     "data": {
      "text/plain": [
       "0"
      ]
     },
     "execution_count": 135,
     "metadata": {},
     "output_type": "execute_result"
    }
   ],
   "source": [
    "# Look for any missing data values in the training labels\n",
    "sum(y_train == None)"
   ]
  },
  {
   "cell_type": "code",
   "execution_count": 136,
   "metadata": {},
   "outputs": [
    {
     "data": {
      "text/plain": [
       "array([5923, 6742, 5958, 6131, 5842, 5421, 5918, 6265, 5851, 5949],\n",
       "      dtype=int64)"
      ]
     },
     "execution_count": 136,
     "metadata": {},
     "output_type": "execute_result"
    }
   ],
   "source": [
    "# Check for imbalance in the training data\n",
    "unique_targets = np.unique(y_train, return_counts=True)\n",
    "unique_targets[1]"
   ]
  },
  {
   "cell_type": "code",
   "execution_count": 137,
   "metadata": {},
   "outputs": [
    {
     "name": "stdout",
     "output_type": "stream",
     "text": [
      "Mean: 6000.0, Median: 5936.0\n"
     ]
    }
   ],
   "source": [
    "print(f\"Mean: {np.mean(unique_targets[1])}, Median: {np.median(unique_targets[1])}\")"
   ]
  },
  {
   "cell_type": "code",
   "execution_count": 138,
   "metadata": {},
   "outputs": [
    {
     "name": "stdout",
     "output_type": "stream",
     "text": [
      "Max: 6742, Min: 5421\n"
     ]
    }
   ],
   "source": [
    "print(f\"Max: {np.max(unique_targets[1])}, Min: {np.min(unique_targets[1])}\")"
   ]
  },
  {
   "cell_type": "code",
   "execution_count": 139,
   "metadata": {},
   "outputs": [
    {
     "name": "stdout",
     "output_type": "stream",
     "text": [
      "Std Dev: 322.082908581005\n"
     ]
    }
   ],
   "source": [
    "print(f\"Std Dev: {np.std(unique_targets[1])}\")"
   ]
  },
  {
   "cell_type": "code",
   "execution_count": 140,
   "metadata": {},
   "outputs": [
    {
     "data": {
      "text/plain": [
       "array([-0.23906888,  2.30375466, -0.13040121,  0.40672757, -0.49055692,\n",
       "       -1.79767378, -0.25459283,  0.82276952, -0.46261381, -0.15834432])"
      ]
     },
     "execution_count": 140,
     "metadata": {},
     "output_type": "execute_result"
    }
   ],
   "source": [
    "# Normalized\n",
    "(unique_targets[1] - np.mean(unique_targets[1]) ) / np.std(unique_targets[1])"
   ]
  },
  {
   "cell_type": "code",
   "execution_count": 141,
   "metadata": {},
   "outputs": [
    {
     "data": {
      "image/png": "[encoded data removed]",
      "text/plain": [
       "<Figure size 1440x360 with 3 Axes>"
      ]
     },
     "metadata": {
      "needs_background": "light"
     },
     "output_type": "display_data"
    }
   ],
   "source": [
    "fig = plt.figure(figsize=(20,5))\n",
    "ax1 = fig.add_subplot(1,3,1)\n",
    "ax2 = fig.add_subplot(1,3,2)\n",
    "ax3 = fig.add_subplot(1,3,3)\n",
    "\n",
    "# Column (bar) chart\n",
    "ax1.bar(unique_targets[0], unique_targets[1])\n",
    "\n",
    "# Histogram\n",
    "h_retval = ax2.hist(unique_targets[1])\n",
    "\n",
    "# Boxplot\n",
    "b_retval = ax3.boxplot(unique_targets[1])"
   ]
  },
  {
   "cell_type": "code",
   "execution_count": 182,
   "metadata": {},
   "outputs": [],
   "source": [
    "# For this single neuron exploration,\n",
    "# perform a classification for only one digit as either\n",
    "# the target digit or not the target digit\n",
    "TARGET_SINGLE_DIGIT = 8"
   ]
  },
  {
   "cell_type": "code",
   "execution_count": 193,
   "metadata": {},
   "outputs": [
    {
     "name": "stdout",
     "output_type": "stream",
     "text": [
      "Training labels y_train_single (a few samples): [0 0 0 0 0 0 0 1 0 0]\n",
      "Testing labels y_test_single (a few samples): [0 1 0 0 0 0 0 0 0 0]\n"
     ]
    }
   ],
   "source": [
    "# Create training and testing arrays that classify the digit as being either TARGET_SINGLE_DIGIT (1) or not (0)\n",
    "y_train_single = np.array([ (1 if y==TARGET_SINGLE_DIGIT else 0) for y in y_train ])\n",
    "print( f\"Training labels y_train_single (a few samples): {y_train_single[10:20]}\")\n",
    "\n",
    "y_test_single = np.array([ (1 if y==TARGET_SINGLE_DIGIT else 0) for y in y_test ])\n",
    "print( f\"Testing labels y_test_single (a few samples): {y_test_single[60:70]}\")"
   ]
  },
  {
   "cell_type": "code",
   "execution_count": 197,
   "metadata": {},
   "outputs": [
    {
     "name": "stdout",
     "output_type": "stream",
     "text": [
      "y_train_single: Not the Selected Target Single Digit, but Label == 1 => Occurences 0\n",
      "y_train_single: Is the Selected Target Single Digit, but Label == 0 => Occurrences 0\n",
      "y_test_single: Not the Selected Target Single Digit, but Label == 1 => Occurences 0\n",
      "y_test_single: Is the Selected Target Single Digit, but Label == 0 => Occurrences 0\n"
     ]
    }
   ],
   "source": [
    "# Quick check to make sure labels are correct\n",
    "check_train_df = pd.DataFrame( { 'y_train': y_train, 'y_train_single': y_train_single }, columns=['y_train', 'y_train_single'])\n",
    "check_test_df = pd.DataFrame( { 'y_test': y_test, 'y_test_single': y_test_single }, columns=['y_test', 'y_test_single'])\n",
    "\n",
    "# Check for occurrences of mismatched labels\n",
    "print( f\"y_train_single: Not the Selected Target Single Digit, but Label == 1 => Occurences { sum( (check_train_df[ 'y_train'] != TARGET_SINGLE_DIGIT) & (check_train_df[ 'y_train_single'] == 1) )}\" )\n",
    "print( f\"y_train_single: Is the Selected Target Single Digit, but Label == 0 => Occurrences { sum( (check_train_df[ 'y_train'] == TARGET_SINGLE_DIGIT) & (check_train_df[ 'y_train_single'] == 0) )}\" )\n",
    "      \n",
    "print( f\"y_test_single: Not the Selected Target Single Digit, but Label == 1 => Occurences { sum( (check_test_df[ 'y_test'] != TARGET_SINGLE_DIGIT) & (check_test_df[ 'y_test_single'] == 1) )}\" )\n",
    "print( f\"y_test_single: Is the Selected Target Single Digit, but Label == 0 => Occurrences { sum( (check_test_df[ 'y_test'] == TARGET_SINGLE_DIGIT) & (check_test_df[ 'y_test_single'] == 0) )}\" )"
   ]
  },
  {
   "cell_type": "code",
   "execution_count": 186,
   "metadata": {},
   "outputs": [
    {
     "name": "stdout",
     "output_type": "stream",
     "text": [
      "Indices: range(0, 10)\n"
     ]
    },
    {
     "data": {
      "text/plain": [
       "10"
      ]
     },
     "execution_count": 186,
     "metadata": {},
     "output_type": "execute_result"
    },
    {
     "data": {
      "image/png": "[encoded data removed]",
      "text/plain": [
       "<Figure size 1440x648 with 10 Axes>"
      ]
     },
     "metadata": {
      "needs_background": "light"
     },
     "output_type": "display_data"
    }
   ],
   "source": [
    "# Plot some samples from the training data\n",
    "plot_digit_list(X_train[10:20], y_train_single[10:20], False)"
   ]
  },
  {
   "cell_type": "code",
   "execution_count": 198,
   "metadata": {},
   "outputs": [
    {
     "name": "stdout",
     "output_type": "stream",
     "text": [
      "Indices: range(0, 10)\n"
     ]
    },
    {
     "data": {
      "text/plain": [
       "10"
      ]
     },
     "execution_count": 198,
     "metadata": {},
     "output_type": "execute_result"
    },
    {
     "data": {
      "image/png": "[encoded data removed]",
      "text/plain": [
       "<Figure size 1440x648 with 10 Axes>"
      ]
     },
     "metadata": {
      "needs_background": "light"
     },
     "output_type": "display_data"
    }
   ],
   "source": [
    "# Plot some samples from the testing data\n",
    "plot_digit_list(X_test[60:70], y_test_single[60:70], False)"
   ]
  },
  {
   "cell_type": "code",
   "execution_count": 199,
   "metadata": {},
   "outputs": [
    {
     "name": "stdout",
     "output_type": "stream",
     "text": [
      "(60000, 28, 28) (60000,) (10000, 28, 28) (10000,)\n"
     ]
    }
   ],
   "source": [
    "# Display the current shape of the input and output data\n",
    "print(X_train.shape, y_train_single.shape, X_test.shape, y_test_single.shape)"
   ]
  },
  {
   "cell_type": "code",
   "execution_count": 200,
   "metadata": {},
   "outputs": [
    {
     "name": "stdout",
     "output_type": "stream",
     "text": [
      "(60000, 784) (10000, 784)\n"
     ]
    }
   ],
   "source": [
    "# Flatten the 28x28 pixel images to a 1D array of 784 pixels\n",
    "ndims = X_train.shape[1] * X_train.shape[2]\n",
    "X_train_flat = X_train.reshape(X_train.shape[0], ndims)\n",
    "X_test_flat = X_test.reshape(X_test.shape[0], ndims)\n",
    "print(X_train_flat.shape, X_test_flat.shape)"
   ]
  },
  {
   "cell_type": "code",
   "execution_count": 203,
   "metadata": {},
   "outputs": [],
   "source": [
    "# Use a scalar to scale the training data to values between 0 and 1 (MinMaxScalar)\n",
    "# Q: How would the results differ if we applied StandardScalar instead of MixMaxScalar\n",
    "x_scalar = MinMaxScaler().fit(X_train_flat)\n",
    "X_train_scaled = x_scalar.transform(X_train_flat)\n",
    "X_test_scaled = x_scalar.transform(X_test_flat)"
   ]
  },
  {
   "cell_type": "code",
   "execution_count": 204,
   "metadata": {},
   "outputs": [],
   "source": [
    "# No need to apply One-Hot Encoding to the labels\n",
    "# because we have limited the classification to only 2 values (0 or 1)\n",
    "n_classes = 2\n",
    "# y_train_encoded = to_categorical(y_train, n_classes)\n",
    "# y_test_encoded = to_categorical(y_test, n_classes)\n",
    "y_train_encoded = y_train_single\n",
    "y_test_encoded = y_test_single"
   ]
  },
  {
   "cell_type": "code",
   "execution_count": 205,
   "metadata": {},
   "outputs": [
    {
     "name": "stdout",
     "output_type": "stream",
     "text": [
      "(60000, 784) (60000,) (10000, 784) (10000,)\n"
     ]
    }
   ],
   "source": [
    "# Display the shape of the input and output data\n",
    "print(X_train_scaled.shape, y_train_encoded.shape, X_test_scaled.shape, y_test_encoded.shape)"
   ]
  },
  {
   "cell_type": "markdown",
   "metadata": {},
   "source": [
    "# Define the class for the model"
   ]
  },
  {
   "cell_type": "code",
   "execution_count": 529,
   "metadata": {},
   "outputs": [],
   "source": [
    "class SingleNode():\n",
    "    \"\"\"\n",
    "    class SimpleNode\n",
    "    \n",
    "    An implementation of a single neuron node.\n",
    "    \"\"\"\n",
    "    \n",
    "    def __init__(self):\n",
    "        self.fit_is_done = False\n",
    "        self.fit_alpha = None\n",
    "        self.fit_batch_size = None\n",
    "        self.fit_max_iter = None\n",
    "        self.fit_n_iter = None\n",
    "        self.fit_w = None\n",
    "        self.fit_b = None\n",
    "        self.fit_train_nsamples = None\n",
    "        self.fit_train_accuracy = None\n",
    "        self.fit_train_iterations = None\n",
    "        self.fit_train_history = None\n",
    "        \n",
    "        self.eval_is_done = False\n",
    "        self.eval_nsamples = None\n",
    "        self.eval_accuracy = None\n",
    "        self.eval_predict_prob = None\n",
    "        \n",
    "    def __repr__(self):\n",
    "        # Return an \"official\" string representation of the object\n",
    "\n",
    "        # Get the list of all class attributes\n",
    "        attribute_list = vars( self )\n",
    "        \n",
    "        # Return the list as a string\n",
    "        retval = f\"{self.__class__.__name__}({attribute_list})\"\n",
    "        \n",
    "        return retval\n",
    "    \n",
    "    def __str__(self):\n",
    "        # Return an \"friendly\" string representation of the object\n",
    "        \n",
    "        # Get the list of all class attributes\n",
    "        attribute_list = vars( self )\n",
    "        \n",
    "        # Return the list as a string\n",
    "        retval = f\"{self.__class__.__name__}({attribute_list})\"\n",
    "        return retval\n",
    "        \n",
    "    # Set attributes based upon specified arguments\n",
    "    def _set_attributes(self, a_X_train, a_y_train, a_alpha, a_batch_size, a_max_iter):\n",
    "        try:\n",
    "            if int(a_batch_size) > 0:\n",
    "                self.fit_batch_size = int(a_batch_size)\n",
    "            else:\n",
    "                # Create an error message\n",
    "                err_str  = f\"Error in object {self.__class__.__name__}:\\n\"\n",
    "                err_str += f\"\\tBatch size must be a number > 0\\n\"\n",
    "                err_str += f\"\\tbatch_size = {a_batch_size} [{type(a_batch_size)}]\"\n",
    "                raise ValueError(err_str)\n",
    "                            \n",
    "        except Exception as e:\n",
    "            # Re-raise the exception that got us here,\n",
    "            # including any error message passed along\n",
    "            raise\n",
    "            \n",
    "        # Set attribute: alpha\n",
    "        try:\n",
    "            if float(a_alpha) > 0.0:\n",
    "                self.fit_alpha = float(a_alpha)\n",
    "            else:\n",
    "                # Create an error message\n",
    "                err_str  = f\"Error in object {self.__class__.__name__}:\\n\"\n",
    "                err_str += f\"\\tLearning Rate alpha must be a number > 0.0\\n\"\n",
    "                err_str += f\"\\talpha = {a_alpha} [{type(a_alpha)}]\"\n",
    "                raise ValueError(err_str)\n",
    "                            \n",
    "        except Exception as e:\n",
    "            # Re-raise the exception that got us here,\n",
    "            # including any error message passed along\n",
    "            raise\n",
    "\n",
    "        try:\n",
    "            if (a_max_iter != None):\n",
    "                if int(a_max_iter) > 0:\n",
    "                    self.fit_max_iter = int(a_max_iter)\n",
    "                else:\n",
    "                    # Create an error message\n",
    "                    err_str  = f\"Error in object {self.__class__.__name__}:\\n\"\n",
    "                    err_str += f\"\\tMaximum Iterations must be a number > 0\\n\"\n",
    "                    err_str += f\"\\tmax_iter = {a_max_iter} [{type(a_max_iter)}]\"\n",
    "                    raise ValueError(err_str)\n",
    "                            \n",
    "        except Exception as e:\n",
    "            # Re-raise the exception that got us here,\n",
    "            # including any error message passed along\n",
    "            raise\n",
    "            \n",
    "        # Check for errors in the X and y training data\n",
    "        try:\n",
    "            # Ensure that the number of x and y examples match\n",
    "            if a_X_train.shape[0] == a_y_train.shape[0]:\n",
    "                # Save the number of examples (samples) in the training data\n",
    "                self.fit_train_nsamples = a_X_train.shape[0]\n",
    "                \n",
    "            # Ensure that at least one feature has been provided\n",
    "            if a_X_train.shape[1] > 0:\n",
    "                # Save the number of features in the training data\n",
    "                self.fit_train_nfeat = a_X_train.shape[1]\n",
    "                \n",
    "            else:\n",
    "                # Create an error message\n",
    "                err_str  = f\"Error in object {self.__class__.__name__}:\\n\"\n",
    "                err_str += f\"\\tNumber of training samples different for X vs y\\n\"\n",
    "                err_str += f\"\\tX_train.shape = {a_X_train.shape}, y_train.shape = {a_y_train.shape}\"\n",
    "                raise ValueError(err_str)\n",
    "                            \n",
    "        except Exception as e:\n",
    "            # Re-raise the exception that got us here,\n",
    "            # including any error message passed along\n",
    "            raise\n",
    "            \n",
    "    @staticmethod\n",
    "    def sigmoid(a_vector):\n",
    "        return 1 / (1 + np.exp(-a_vector) )    \n",
    "            \n",
    "    def fit(self, a_X_train, a_y_train, a_alpha = 0.01, a_batch_size = 32, a_max_iter = None):\n",
    "\n",
    "        # Set attributes, including basic error checking\n",
    "        self._set_attributes(a_X_train, a_y_train, a_alpha, a_batch_size, a_max_iter)\n",
    "        \n",
    "        # Do a basic loop through the samples for now\n",
    "        # NEXT: Create a generator function to automatically manage batches\n",
    "        \n",
    "        # Calculate the number of iterations available given\n",
    "        # the training sample size and the batch size\n",
    "        n_iter = int(self.fit_train_nsamples / self.fit_batch_size)\n",
    "        \n",
    "        # Limit the number of iterations to fit_max_iter if specified\n",
    "        if self.fit_max_iter != None:\n",
    "            n_iter = min(self.fit_max_iter, n_iter)\n",
    "        \n",
    "        # Initialize the coefficients w ~shape(self.fit_train_nfeat, 1)\n",
    "        w = np.zeros(self.fit_train_nfeat).reshape(-1,1)\n",
    "        \n",
    "        # Initialize the coefficient b ~shape(1,1)\n",
    "        b = 0\n",
    "        \n",
    "        # Loop through the iterations\n",
    "        progress_str = \"\"\n",
    "        for i in range(n_iter):\n",
    "            \n",
    "            # Get the batch of X and y examples for this iteration\n",
    "            X_batch = a_X_train[i*self.fit_batch_size:(i+1)*self.fit_batch_size]\n",
    "            y_batch = a_y_train[i*self.fit_batch_size:(i+1)*self.fit_batch_size]\n",
    "            \n",
    "            # Calculate the linear equation\n",
    "            Z = np.dot(w.T, X_batch.T) + b\n",
    "            \n",
    "            # Calculate the output prediction from the sigmoid of the linear function - vectorized: A and Z ~ shape(1,m)\n",
    "            A = self.sigmoid(Z)\n",
    "            \n",
    "            # Calculate the overall cost (vectorized) - vectorized: A and Y ~ shape(1,m), J ~ scalar\n",
    "            J = (1/self.fit_batch_size) * np.sum( y_batch*np.log(A) + (1-y_batch)*np.log(1-A) )\n",
    "\n",
    "            # Calculate the partial derivative of Loss by z\n",
    "            dz = A - y_batch\n",
    "\n",
    "            # Calculate the partial derivative of Loss by w\n",
    "            dw = np.dot(X_batch.T,dz.T)\n",
    "\n",
    "            # Calculate the partial derivative of Loss by b\n",
    "            db = dz\n",
    "\n",
    "            # Use the derivatives to adjust the coefficients w and b\n",
    "            w -= self.fit_alpha * dw\n",
    "            b -= self.fit_alpha * db\n",
    "            \n",
    "            # Display a progress update\n",
    "            progress_str = f\"[{i}]: J(w,b)={J:0.4f}\"\n",
    "            print(progress_str)\n",
    "            \n",
    "        # Save the coefficient values\n",
    "#         self.fit_w = w\n",
    "#         self.fit_b = b\n",
    "        \n",
    "        # Save the number of iterations performed\n",
    "        self.fit_train_iterations = n_iter\n",
    "        \n",
    "        # Set the flag that fit has been performed\n",
    "        self.fit_is_done = True\n",
    "\n",
    "        # Return a string providing the model attributes\n",
    "        retval = self.__repr__()   \n",
    "        return retval\n",
    "        \n",
    "    def evaluate():\n",
    "        pass\n",
    "    \n",
    "    "
   ]
  },
  {
   "cell_type": "code",
   "execution_count": 530,
   "metadata": {},
   "outputs": [],
   "source": [
    "abc = SingleNode()"
   ]
  },
  {
   "cell_type": "code",
   "execution_count": 531,
   "metadata": {
    "scrolled": false
   },
   "outputs": [
    {
     "name": "stdout",
     "output_type": "stream",
     "text": [
      "[0]: J(w,b)=-0.6931\n",
      "[1]: J(w,b)=-5.0899\n",
      "[2]: J(w,b)=-2.1520\n",
      "[3]: J(w,b)=-1.3739\n",
      "[4]: J(w,b)=-1.1181\n",
      "[5]: J(w,b)=-0.2779\n",
      "[6]: J(w,b)=-0.6371\n",
      "[7]: J(w,b)=-2.2457\n",
      "[8]: J(w,b)=-0.0719\n",
      "[9]: J(w,b)=-0.0919\n",
      "SingleNode({'fit_is_done': True, 'fit_alpha': 0.1, 'fit_batch_size': 32, 'fit_max_iter': 10, 'fit_n_iter': None, 'fit_w': None, 'fit_b': None, 'fit_train_nsamples': 60000, 'fit_train_accuracy': None, 'fit_train_iterations': 10, 'fit_train_history': None, 'eval_is_done': False, 'eval_nsamples': None, 'eval_accuracy': None, 'eval_predict_prob': None, 'fit_train_nfeat': 784})\n"
     ]
    }
   ],
   "source": [
    "retval = abc.fit(X_train_scaled, y_train_encoded, 0.1, 32, 10)\n",
    "print(retval)"
   ]
  },
  {
   "cell_type": "code",
   "execution_count": 481,
   "metadata": {},
   "outputs": [
    {
     "name": "stdout",
     "output_type": "stream",
     "text": [
      "(60000, 784) (60000,)\n"
     ]
    }
   ],
   "source": [
    "print(X_train_scaled.shape, y_train_encoded.shape)"
   ]
  },
  {
   "cell_type": "code",
   "execution_count": 458,
   "metadata": {},
   "outputs": [
    {
     "name": "stdout",
     "output_type": "stream",
     "text": [
      "class SimpleNode\n",
      "    \n",
      "    An implementation of a single neuron node.\n",
      "    \n"
     ]
    }
   ],
   "source": [
    "print(abc.__doc__)"
   ]
  },
  {
   "cell_type": "code",
   "execution_count": 468,
   "metadata": {},
   "outputs": [],
   "source": [
    "val = 3"
   ]
  },
  {
   "cell_type": "code",
   "execution_count": 470,
   "metadata": {},
   "outputs": [
    {
     "data": {
      "text/plain": [
       "True"
      ]
     },
     "execution_count": 470,
     "metadata": {},
     "output_type": "execute_result"
    }
   ],
   "source": [
    "val != None"
   ]
  },
  {
   "cell_type": "code",
   "execution_count": null,
   "metadata": {},
   "outputs": [],
   "source": []
  },
  {
   "cell_type": "code",
   "execution_count": null,
   "metadata": {},
   "outputs": [],
   "source": []
  },
  {
   "cell_type": "markdown",
   "metadata": {},
   "source": [
    "### Define the Neural Network model for multi-class, single-label classification"
   ]
  },
  {
   "cell_type": "code",
   "execution_count": null,
   "metadata": {},
   "outputs": [],
   "source": [
    "# Create a sequential model\n",
    "model = Sequential()"
   ]
  },
  {
   "cell_type": "code",
   "execution_count": null,
   "metadata": {},
   "outputs": [],
   "source": [
    "# Number of Inputs:\n",
    "n_inputs = X_train_scaled.shape[1]\n",
    "\n",
    "# Number of Classes:\n",
    "n_classes = y_train_encoded.shape[1]\n",
    "\n",
    "# Add input and first layer - Number of Hidden Nodes: 10\n",
    "model.add(Dense(units=20, activation='relu', input_dim=n_inputs))\n",
    "\n",
    "# Add another hidden layer - Number of Hidden Nodes: 10\n",
    "model.add(Dense(units=20, activation='relu'))\n",
    "\n",
    "# Number of output nodes (units) needed = Number of classes\n",
    "model.add(Dense(units=n_classes, activation='softmax'))\n",
    "\n",
    "# Provide a summary of the model\n",
    "model.summary()"
   ]
  },
  {
   "cell_type": "markdown",
   "metadata": {},
   "source": [
    "### Compile the Model"
   ]
  },
  {
   "cell_type": "code",
   "execution_count": null,
   "metadata": {},
   "outputs": [],
   "source": [
    "# Compile the model\n",
    "# Optimizer: Adam\n",
    "# Loss Function: Categorical Cross-Entropy for categorical data (Mean Squared Error for regression)\n",
    "# Metrics: Accuracy\n",
    "model.compile(optimizer='adam',\n",
    "              loss='categorical_crossentropy',\n",
    "              metrics=['accuracy'])"
   ]
  },
  {
   "cell_type": "markdown",
   "metadata": {},
   "source": [
    "### Train the Model"
   ]
  },
  {
   "cell_type": "code",
   "execution_count": null,
   "metadata": {
    "scrolled": true
   },
   "outputs": [],
   "source": [
    "#%%timeit -n1 -r1\n",
    "# Fit (train) the model\n",
    "hist = model.fit(\n",
    "    X_train_scaled,\n",
    "    y_train_encoded,\n",
    "    epochs=10,\n",
    "    shuffle=True,\n",
    "    verbose=2\n",
    ")"
   ]
  },
  {
   "cell_type": "code",
   "execution_count": null,
   "metadata": {},
   "outputs": [],
   "source": []
  },
  {
   "cell_type": "code",
   "execution_count": null,
   "metadata": {},
   "outputs": [],
   "source": []
  },
  {
   "cell_type": "code",
   "execution_count": null,
   "metadata": {},
   "outputs": [],
   "source": []
  },
  {
   "cell_type": "markdown",
   "metadata": {},
   "source": [
    "### Evaluate the Model"
   ]
  },
  {
   "cell_type": "code",
   "execution_count": null,
   "metadata": {},
   "outputs": [],
   "source": [
    "# Evaluate the model using the testing data\n",
    "m_score_list = model.evaluate(X_test_scaled, y_test_encoded, verbose=2)\n",
    "m_label_list = model.metrics_names\n",
    "\n",
    "# Print the metrics and their associated labels\n",
    "for i in range(len(m_score_list)):\n",
    "    print(f\"{m_label_list[i].title()}: {m_score_list[i]:0.4f}\")"
   ]
  },
  {
   "cell_type": "code",
   "execution_count": null,
   "metadata": {},
   "outputs": [],
   "source": [
    "hist.history.keys()"
   ]
  },
  {
   "cell_type": "markdown",
   "metadata": {},
   "source": [
    "### Plot Model Fitting History"
   ]
  },
  {
   "cell_type": "code",
   "execution_count": null,
   "metadata": {},
   "outputs": [],
   "source": [
    "# Plot Epoch history\n",
    "# fig1 = plt.figure(figsize=(10,10))\n",
    "fig1 = plt.figure(figsize=(10,10))\n",
    "\n",
    "# Create a single plot of all results\n",
    "ax1 = fig1.add_subplot( 2,1,1 )\n",
    "ax2 = fig1.add_subplot( 2,1,2 )\n",
    "\n",
    "# X-axis\n",
    "x_vals = range(len(hist.history['acc']))\n",
    "\n",
    "# Plots\n",
    "ax1.set_ylim(ymin=0.9*min(hist.history['acc']), ymax=1.1)\n",
    "ax1.plot( x_vals, hist.history['acc'],\n",
    "          label='Accuracy (Training)', c='k', linestyle='-')\n",
    "\n",
    "ax2.plot( x_vals, hist.history['loss'],\n",
    "          label='Loss (Training)', c='k', linestyle='-')\n",
    "\n",
    "# Add text note on the max and min accuracy and loss points\n",
    "acc_min_idx = np.argmin(hist.history['acc'])\n",
    "ax1.text( x=acc_min_idx, y=hist.history['acc'][acc_min_idx]*1.02, c='b',\n",
    "          s=f\"Min: {hist.history['acc'][acc_min_idx]:.4f}\\nEpoch: {acc_min_idx}\" )\n",
    "\n",
    "acc_max_idx = np.argmax(hist.history['acc'])\n",
    "ax1.text( x=acc_max_idx, y=hist.history['acc'][acc_max_idx]*1.02, c='b',\n",
    "          s=f\"Max: {hist.history['acc'][acc_max_idx]:.4f}\\nEpoch: {acc_max_idx}\" )\n",
    "\n",
    "loss_min_idx = np.argmin(hist.history['loss'])\n",
    "ax2.text( x=loss_min_idx, y=hist.history['loss'][loss_min_idx]*1.02, c='b',\n",
    "          s=f\"Min: {hist.history['loss'][loss_min_idx]:.4f}\\nEpoch: {loss_min_idx}\" )\n",
    "         \n",
    "loss_max_idx = np.argmax(hist.history['loss'])\n",
    "ax2.text( x=loss_max_idx, y=hist.history['loss'][loss_max_idx]*1.02, c='b',\n",
    "          s=f\"Max: {hist.history['loss'][loss_max_idx]:.4f}\\nEpoch: {loss_max_idx}\" )\n",
    "\n",
    "# If populated, plot the loss and accuracy from the test samples\n",
    "try:\n",
    "    loss_val = m_score_list[0]\n",
    "    acc_val = m_score_list[1]\n",
    "\n",
    "    ax1.text( x=min(x_vals), y=acc_val*1.02, c='darkgreen', s=f\"{acc_val:.4f}\")\n",
    "    ax1.hlines(y=acc_val, xmin=min(x_vals), xmax=max(x_vals),\n",
    "              label='Accuracy (Testing)', color='g', linewidth=1, linestyle=':')    \n",
    "    \n",
    "    ax2.text( x=min(x_vals), y=loss_val*0.97, c='darkgreen', s=f\"{loss_val:.4f}\")\n",
    "    ax2.hlines(y=loss_val, xmin=min(x_vals), xmax=max(x_vals),\n",
    "              label='Loss (Testing)', color='g', linewidth=1, linestyle=':')    \n",
    "except:\n",
    "    pass\n",
    "    \n",
    "ax1.legend(loc='lower right')\n",
    "ax1.set_xlabel(\"Epoch\")\n",
    "ax1.set_ylabel(\"Accuracy\")\n",
    "ax1.set_title(\"Model Fitting History - Accuracy\")\n",
    "\n",
    "ax2.legend(loc='upper right')\n",
    "ax2.set_xlabel(\"Epoch\")\n",
    "ax2.set_ylabel(\"Loss\")\n",
    "ax2.set_title(\"Model Fitting History - Loss\")\n",
    "\n",
    "fig1.savefig(\"docs/10-Figure-Handwriting_Recognition-Model_Fitting_History.png\")"
   ]
  },
  {
   "cell_type": "markdown",
   "metadata": {},
   "source": [
    "### Make Some Predictions"
   ]
  },
  {
   "cell_type": "code",
   "execution_count": null,
   "metadata": {},
   "outputs": [],
   "source": [
    "# Make some predictions using the testing data\n",
    "y_encoded_predictions = model.predict_classes(X_test_scaled)\n",
    "y_encoded_actuals = [ np.argmax(y_val.round()) for y_val in y_test_encoded ]"
   ]
  },
  {
   "cell_type": "code",
   "execution_count": null,
   "metadata": {},
   "outputs": [],
   "source": [
    "# Summarize the prediction results in a dataframe\n",
    "predict_sample_df = pd.DataFrame(\n",
    "    {'Actual': y_encoded_actuals,\n",
    "     'Prediction': y_encoded_predictions})\n",
    "predict_sample_df['Correct'] = (predict_sample_df['Actual'] == predict_sample_df['Prediction'])\n",
    "\n",
    "predict_sample_df.head()"
   ]
  },
  {
   "cell_type": "code",
   "execution_count": null,
   "metadata": {},
   "outputs": [],
   "source": [
    "s_min = 30\n",
    "s_max = 40\n",
    "plot_digit_list(X_test[s_min:s_max], y_encoded_actuals[s_min:s_max], False)"
   ]
  },
  {
   "cell_type": "code",
   "execution_count": null,
   "metadata": {},
   "outputs": [],
   "source": [
    "m_accuracy = sum(predict_sample_df['Correct']) / len(predict_sample_df['Correct'])\n",
    "print(f\"Model Accuracy: {m_accuracy:.4f}\")"
   ]
  },
  {
   "cell_type": "markdown",
   "metadata": {},
   "source": [
    "### Save the Fitted Model"
   ]
  },
  {
   "cell_type": "code",
   "execution_count": null,
   "metadata": {},
   "outputs": [],
   "source": [
    "# Save the fitted model\n",
    "model.save(\"resources/mnist_digits_model.h5\")"
   ]
  },
  {
   "cell_type": "markdown",
   "metadata": {},
   "source": [
    "### Load a Fitted Model"
   ]
  },
  {
   "cell_type": "code",
   "execution_count": null,
   "metadata": {},
   "outputs": [],
   "source": [
    "# Reload the fitted model\n",
    "prev_model = load_model(\"resources/mnist_digits_model.h5\")"
   ]
  },
  {
   "cell_type": "code",
   "execution_count": null,
   "metadata": {},
   "outputs": [],
   "source": [
    "# Make some predictions using the testing data\n",
    "\n",
    "y_encoded_predictions = model.predict_classes(X_test_scaled)\n",
    "y_encoded_actuals = [ np.argmax(y_val.round()) for y_val in y_test_encoded ]\n",
    "\n",
    "# Summarize the prediction results in a dataframe\n",
    "predict_sample_df = pd.DataFrame(\n",
    "    {'Actual': y_encoded_actuals,\n",
    "     'Prediction': y_encoded_predictions})\n",
    "\n",
    "predict_sample_df['Correct'] = (predict_sample_df['Actual'] == predict_sample_df['Prediction'])\n",
    "predict_sample_df.head()"
   ]
  },
  {
   "cell_type": "markdown",
   "metadata": {},
   "source": [
    "### Import a Custom Image"
   ]
  },
  {
   "cell_type": "code",
   "execution_count": null,
   "metadata": {},
   "outputs": [],
   "source": [
    "# Reload the fitted model\n",
    "prev_model = load_model(\"resources/mnist_digits_model.h5\")"
   ]
  },
  {
   "cell_type": "code",
   "execution_count": null,
   "metadata": {},
   "outputs": [],
   "source": [
    "# File path and name of the image to be processed\n",
    "test_image_file = \"resources/digit_test_2.png\"\n",
    "# test_image_file = \"resources/digit_test_8.png\""
   ]
  },
  {
   "cell_type": "code",
   "execution_count": null,
   "metadata": {},
   "outputs": [],
   "source": [
    "# Import the image - known to be a PNG format file (28px height by 28px width, grayscale w/ 24 bit depth)\n",
    "image_size = (28, 28)\n",
    "test_image = image.load_img(test_image_file, target_size=image_size, grayscale=True)\n",
    "test_image"
   ]
  },
  {
   "cell_type": "code",
   "execution_count": null,
   "metadata": {},
   "outputs": [],
   "source": [
    "# Convert the image to a numpy array\n",
    "test_digit = img_to_array(test_image)\n",
    "test_digit.shape"
   ]
  },
  {
   "cell_type": "code",
   "execution_count": null,
   "metadata": {},
   "outputs": [],
   "source": [
    "# Plot the test digit\n",
    "# NOTE: This is light characters on dark background; the grayscale will be inverted later before prediction\n",
    "plt.imshow(test_digit.reshape(28,28), cmap=plt.cm.Greys)"
   ]
  },
  {
   "cell_type": "code",
   "execution_count": null,
   "metadata": {},
   "outputs": [],
   "source": [
    "# Flatten the 28x28 pixel images to a 1D array of 784 pixels\n",
    "test_digit_ndims = test_digit.shape[0] * test_digit.shape[1]\n",
    "test_digit_flat = test_digit.reshape(-1, test_digit_ndims)\n",
    "test_digit_flat.shape"
   ]
  },
  {
   "cell_type": "code",
   "execution_count": null,
   "metadata": {},
   "outputs": [],
   "source": [
    "# Scale the test digit using the x_scaler already created\n",
    "test_digit_scaled = x_scalar.transform(test_digit_flat)\n",
    "\n",
    "# Scale the digit using a simple linear scaling\n",
    "# test_digit_scaled = test_digit_flat / 255\n",
    "\n",
    "# test_digit_scaled"
   ]
  },
  {
   "cell_type": "code",
   "execution_count": null,
   "metadata": {},
   "outputs": [],
   "source": [
    "# Invert the image so that the digit itself is dark vs light background\n",
    "test_digit_scaled_inverted = 1 - test_digit_scaled"
   ]
  },
  {
   "cell_type": "code",
   "execution_count": null,
   "metadata": {},
   "outputs": [],
   "source": [
    "# Predict what number this is based upon the previously trained model\n",
    "prev_model.predict_classes(test_digit_scaled_inverted)"
   ]
  },
  {
   "cell_type": "code",
   "execution_count": null,
   "metadata": {},
   "outputs": [],
   "source": []
  }
 ],
 "metadata": {
  "anaconda-cloud": {},
  "kernelspec": {
   "display_name": "Python 3",
   "language": "python",
   "name": "python3"
  },
  "language_info": {
   "codemirror_mode": {
    "name": "ipython",
    "version": 3
   },
   "file_extension": ".py",
   "mimetype": "text/x-python",
   "name": "python",
   "nbconvert_exporter": "python",
   "pygments_lexer": "ipython3",
   "version": "3.6.9"
  },
  "nbpresent": {
   "slides": {
    "03210a56-863e-4749-b7ba-ed75bfceceee": {
     "id": "03210a56-863e-4749-b7ba-ed75bfceceee",
     "prev": "86b3b05f-6e9a-49dc-8a83-97f72c348c5f",
     "regions": {
      "2be9481c-cff7-4f32-b835-90f2a2cb989a": {
       "attrs": {
        "height": 0.8,
        "width": 0.8,
        "x": 0.1,
        "y": 0.1
       },
       "content": {
        "cell": "46550b81-7dd8-4efc-b710-0f10002c9f2b",
        "part": "whole"
       },
       "id": "2be9481c-cff7-4f32-b835-90f2a2cb989a"
      },
      "3f484569-30ec-4529-8d3c-ac88b8c6dbfb": {
       "attrs": {
        "height": 0.4,
        "width": 0.8,
        "x": 0.1,
        "y": 0.5
       },
       "content": {
        "cell": "2b83c32a-d7e2-4db6-b45f-afbbf028fe90",
        "part": "whole"
       },
       "id": "3f484569-30ec-4529-8d3c-ac88b8c6dbfb"
      }
     }
    },
    "22531930-3fc8-45ff-a4f1-32e94c1d1455": {
     "id": "22531930-3fc8-45ff-a4f1-32e94c1d1455",
     "prev": "8eb735f6-11af-4f77-a4ed-b637fb18ac08",
     "regions": {
      "1407c818-c9fd-470e-8260-6b6904d888de": {
       "attrs": {
        "height": 0.8,
        "width": 0.8,
        "x": 0.1,
        "y": 0.1
       },
       "content": {
        "cell": "664c64ef-5517-4725-95cb-874bbc7711c7",
        "part": "whole"
       },
       "id": "1407c818-c9fd-470e-8260-6b6904d888de"
      }
     }
    },
    "29c55765-6994-4dbf-b82f-117b4f1e0cee": {
     "id": "29c55765-6994-4dbf-b82f-117b4f1e0cee",
     "prev": "b7c25bc1-4dd7-421b-9951-0c0c403c176d",
     "regions": {
      "44583f15-ec4f-4aec-8e7c-f01652e954fc": {
       "attrs": {
        "height": 0.8,
        "width": 0.8,
        "x": 0.1,
        "y": 0.1
       },
       "content": {
        "cell": "7c23961d-86fe-4d07-bc58-6d61f03c3731",
        "part": "whole"
       },
       "id": "44583f15-ec4f-4aec-8e7c-f01652e954fc"
      }
     }
    },
    "39c5764b-ab2c-4aae-8500-dc39319e4d38": {
     "id": "39c5764b-ab2c-4aae-8500-dc39319e4d38",
     "prev": "22531930-3fc8-45ff-a4f1-32e94c1d1455",
     "regions": {
      "d0237596-8095-44dc-81c6-6d9c6b204684": {
       "attrs": {
        "height": 0.8,
        "width": 0.8,
        "x": 0.1,
        "y": 0.1
       },
       "content": {
        "cell": "348e164e-a000-4def-92c0-db93f9a617a1",
        "part": "whole"
       },
       "id": "d0237596-8095-44dc-81c6-6d9c6b204684"
      }
     }
    },
    "39e950f1-f2c4-422a-8f45-835c5c61e7e0": {
     "id": "39e950f1-f2c4-422a-8f45-835c5c61e7e0",
     "prev": "4b5f1824-db4a-4ef3-9515-a88d3f2276c1",
     "regions": {
      "0a72cc48-c38f-4e8c-94d3-3198eccde68a": {
       "attrs": {
        "height": 0.8,
        "width": 0.8,
        "x": 0.1,
        "y": 0.1
       },
       "content": {
        "cell": "c3820b22-bf55-4dca-ba8b-f08060567b6e",
        "part": "whole"
       },
       "id": "0a72cc48-c38f-4e8c-94d3-3198eccde68a"
      },
      "b49c6eca-318f-41b8-a7a5-a620d18f639c": {
       "attrs": {
        "height": 0.4,
        "width": 0.8,
        "x": 0.1,
        "y": 0.5
       },
       "content": {
        "cell": "aeeeb44d-7825-4050-b7ba-70813bd3396b",
        "part": "whole"
       },
       "id": "b49c6eca-318f-41b8-a7a5-a620d18f639c"
      }
     }
    },
    "4792c0cc-ccd4-48bf-9b0e-a3c1f0f3008d": {
     "id": "4792c0cc-ccd4-48bf-9b0e-a3c1f0f3008d",
     "prev": "39c5764b-ab2c-4aae-8500-dc39319e4d38",
     "regions": {
      "d4adae26-ff2f-4a81-ad91-fd3a9bfd965c": {
       "attrs": {
        "height": 0.4,
        "width": 0.8,
        "x": 0.1,
        "y": 0.5
       },
       "content": {
        "cell": "4d6b8af6-438e-4034-bda1-1f977cf12441",
        "part": "whole"
       },
       "id": "d4adae26-ff2f-4a81-ad91-fd3a9bfd965c"
      },
      "d75a8261-ee89-4f4d-b388-2f429e112f44": {
       "attrs": {
        "height": 0.8,
        "width": 0.8,
        "x": 0.1,
        "y": 0.1
       },
       "content": {
        "cell": "a3b6e99c-2c85-47da-b29b-3b53c3c309b8",
        "part": "whole"
       },
       "id": "d75a8261-ee89-4f4d-b388-2f429e112f44"
      }
     }
    },
    "4b5f1824-db4a-4ef3-9515-a88d3f2276c1": {
     "id": "4b5f1824-db4a-4ef3-9515-a88d3f2276c1",
     "prev": "e92a9020-6631-400a-aa50-46c1fa0a5f0c",
     "regions": {
      "2bd81133-11e3-48df-bf12-2d0a57949bca": {
       "attrs": {
        "height": 0.8,
        "width": 0.8,
        "x": 0.1,
        "y": 0.1
       },
       "content": {
        "cell": "69fab88f-0864-47cc-933b-eaffb638cbf3",
        "part": "whole"
       },
       "id": "2bd81133-11e3-48df-bf12-2d0a57949bca"
      },
      "d3322861-28ab-4f1e-8a1f-3a7f4d3da8c1": {
       "attrs": {
        "height": 0.4,
        "width": 0.8,
        "x": 0.1,
        "y": 0.5
       },
       "content": {
        "cell": "3810c2af-fdbe-4f01-bc9f-2bb1a8ae70c6",
        "part": "whole"
       },
       "id": "d3322861-28ab-4f1e-8a1f-3a7f4d3da8c1"
      }
     }
    },
    "57992fb9-2f74-4e8e-8772-7b9f04606a56": {
     "id": "57992fb9-2f74-4e8e-8772-7b9f04606a56",
     "prev": "595093b4-3f86-406c-abb5-aea78e1241b3",
     "regions": {
      "3b3c8191-9f7e-4ab2-afac-b2b47008484a": {
       "attrs": {
        "height": 0.8,
        "width": 0.8,
        "x": 0.1,
        "y": 0.1
       },
       "content": {
        "cell": "a6d0bdff-9bba-472e-b354-da47b8761dbe",
        "part": "whole"
       },
       "id": "3b3c8191-9f7e-4ab2-afac-b2b47008484a"
      }
     }
    },
    "5907f515-df93-4e86-82c6-b8721b6e6346": {
     "id": "5907f515-df93-4e86-82c6-b8721b6e6346",
     "prev": "39e950f1-f2c4-422a-8f45-835c5c61e7e0",
     "regions": {
      "22f9005a-ed7a-4399-b501-497565ada2da": {
       "attrs": {
        "height": 0.8,
        "width": 0.8,
        "x": 0.1,
        "y": 0.1
       },
       "content": {
        "cell": "2e255efc-6ae1-4554-b32f-9400b47007c9",
        "part": "whole"
       },
       "id": "22f9005a-ed7a-4399-b501-497565ada2da"
      },
      "82d64cef-48f7-413c-ad01-e7fa2921f7c0": {
       "attrs": {
        "height": 0.4,
        "width": 0.8,
        "x": 0.1,
        "y": 0.5
       },
       "content": {
        "cell": "711a40c8-c479-448b-a3bc-5c7ff8369838",
        "part": "whole"
       },
       "id": "82d64cef-48f7-413c-ad01-e7fa2921f7c0"
      },
      "d943d3ea-6cd3-4d4a-8914-7fea0231efda": {
       "attrs": {
        "height": 0.4,
        "width": 0.8,
        "x": 0.1,
        "y": 0.5
       },
       "content": {
        "cell": "9bfbb27b-cae0-4feb-809a-77718bb2e6a3",
        "part": "whole"
       },
       "id": "d943d3ea-6cd3-4d4a-8914-7fea0231efda"
      }
     }
    },
    "595093b4-3f86-406c-abb5-aea78e1241b3": {
     "id": "595093b4-3f86-406c-abb5-aea78e1241b3",
     "prev": "5907f515-df93-4e86-82c6-b8721b6e6346",
     "regions": {
      "3366a1dc-6c33-45f0-a97f-a2744ed0587f": {
       "attrs": {
        "height": 0.8,
        "width": 0.8,
        "x": 0.1,
        "y": 0.1
       },
       "content": {
        "cell": "e54b79a1-316d-4fd1-ad5f-6cd580b51f99",
        "part": "whole"
       },
       "id": "3366a1dc-6c33-45f0-a97f-a2744ed0587f"
      },
      "40b6dba8-5994-4fd0-9ce5-9d36f3bb9f93": {
       "attrs": {
        "height": 0.4,
        "width": 0.8,
        "x": 0.1,
        "y": 0.5
       },
       "content": {
        "cell": "3d860568-b048-40f2-a64d-f585211d6c1c",
        "part": "whole"
       },
       "id": "40b6dba8-5994-4fd0-9ce5-9d36f3bb9f93"
      }
     }
    },
    "76838eab-c2c3-4ff3-b09f-854a7c74c6d4": {
     "id": "76838eab-c2c3-4ff3-b09f-854a7c74c6d4",
     "prev": null,
     "regions": {
      "b0032c00-1d89-4c94-a7a0-488f243c381e": {
       "attrs": {
        "height": 0.8,
        "width": 0.8,
        "x": 0.1,
        "y": 0.1
       },
       "content": {
        "cell": "0dc0cdcb-d8df-4a29-a0d2-a3cf6cc889ce",
        "part": "whole"
       },
       "id": "b0032c00-1d89-4c94-a7a0-488f243c381e"
      }
     }
    },
    "7a25817a-e5bc-4021-9c6b-61bc74dbdb92": {
     "id": "7a25817a-e5bc-4021-9c6b-61bc74dbdb92",
     "prev": "b04719fc-934a-404b-a642-dc732a3d1589",
     "regions": {
      "38d56409-500a-45cf-8e79-722d68d8fc38": {
       "attrs": {
        "height": 0.8,
        "width": 0.8,
        "x": 0.1,
        "y": 0.1
       },
       "content": {
        "cell": "335f050d-99af-43b3-a5ec-69fe896e48e2",
        "part": "whole"
       },
       "id": "38d56409-500a-45cf-8e79-722d68d8fc38"
      },
      "c838cb6d-409c-4c17-a1eb-3d7dc6aab32b": {
       "attrs": {
        "height": 0.4,
        "width": 0.8,
        "x": 0.1,
        "y": 0.5
       },
       "content": {
        "cell": "19ca6a7e-4b5d-4b0f-88c5-e68634abb65d",
        "part": "whole"
       },
       "id": "c838cb6d-409c-4c17-a1eb-3d7dc6aab32b"
      }
     }
    },
    "86b3b05f-6e9a-49dc-8a83-97f72c348c5f": {
     "id": "86b3b05f-6e9a-49dc-8a83-97f72c348c5f",
     "prev": "57992fb9-2f74-4e8e-8772-7b9f04606a56",
     "regions": {
      "49a41ef6-224d-46c1-bb81-254b8a4cee88": {
       "attrs": {
        "height": 0.8,
        "width": 0.8,
        "x": 0.1,
        "y": 0.1
       },
       "content": {
        "cell": "d7df6fa0-ce96-4073-b95d-ce78b3f4fdf1",
        "part": "whole"
       },
       "id": "49a41ef6-224d-46c1-bb81-254b8a4cee88"
      },
      "7ce316ab-4799-4e15-b095-374da21bc1aa": {
       "attrs": {
        "height": 0.4,
        "width": 0.8,
        "x": 0.1,
        "y": 0.5
       },
       "content": {
        "cell": "4a5226b5-d431-4cbe-86a6-291952a45a37",
        "part": "whole"
       },
       "id": "7ce316ab-4799-4e15-b095-374da21bc1aa"
      },
      "a7d701c6-61e3-48e3-8e0d-a4b318aef7d8": {
       "attrs": {
        "height": 0.4,
        "width": 0.8,
        "x": 0.1,
        "y": 0.5
       },
       "content": {
        "cell": "5e425283-82de-4c48-b2ae-31a1d6983849",
        "part": "whole"
       },
       "id": "a7d701c6-61e3-48e3-8e0d-a4b318aef7d8"
      },
      "e180cf23-71a7-46a8-8598-86a079bd7d78": {
       "attrs": {
        "height": 0.4,
        "width": 0.8,
        "x": 0.1,
        "y": 0.5
       },
       "content": {
        "cell": "28aaab45-1e14-4db5-9d2c-63b239cafe13",
        "part": "whole"
       },
       "id": "e180cf23-71a7-46a8-8598-86a079bd7d78"
      }
     }
    },
    "8eb735f6-11af-4f77-a4ed-b637fb18ac08": {
     "id": "8eb735f6-11af-4f77-a4ed-b637fb18ac08",
     "prev": "7a25817a-e5bc-4021-9c6b-61bc74dbdb92",
     "regions": {
      "ca38ef02-01f9-42cb-9e35-d67f8d665597": {
       "attrs": {
        "height": 0.4,
        "width": 0.8,
        "x": 0.1,
        "y": 0.5
       },
       "content": {
        "cell": "69b638ed-ed32-4824-bb81-df958c215a33",
        "part": "whole"
       },
       "id": "ca38ef02-01f9-42cb-9e35-d67f8d665597"
      },
      "fc52547b-a8f8-40e2-9397-5b18ca2b71b3": {
       "attrs": {
        "height": 0.8,
        "width": 0.8,
        "x": 0.1,
        "y": 0.1
       },
       "content": {
        "cell": "7317e4f2-150e-4336-ac48-d82641441aa8",
        "part": "whole"
       },
       "id": "fc52547b-a8f8-40e2-9397-5b18ca2b71b3"
      }
     }
    },
    "af2f5933-b31d-4d30-b08a-e4c09432b9bb": {
     "id": "af2f5933-b31d-4d30-b08a-e4c09432b9bb",
     "prev": "29c55765-6994-4dbf-b82f-117b4f1e0cee",
     "regions": {
      "479b436f-50bb-4c3a-9a4e-748e85eacde6": {
       "attrs": {
        "height": 0.8,
        "width": 0.8,
        "x": 0.1,
        "y": 0.1
       },
       "content": {
        "cell": "6d53481c-69ff-41a0-937e-4e8a39e2b2b5",
        "part": "whole"
       },
       "id": "479b436f-50bb-4c3a-9a4e-748e85eacde6"
      },
      "a02a5bdc-cab5-4ddc-aa9d-8ee5e0db6bd4": {
       "attrs": {
        "height": 0.4,
        "width": 0.8,
        "x": 0.1,
        "y": 0.5
       },
       "content": {
        "cell": "b0f8400f-71e1-4892-9012-88e54c053a36",
        "part": "whole"
       },
       "id": "a02a5bdc-cab5-4ddc-aa9d-8ee5e0db6bd4"
      }
     }
    },
    "b04719fc-934a-404b-a642-dc732a3d1589": {
     "id": "b04719fc-934a-404b-a642-dc732a3d1589",
     "prev": "af2f5933-b31d-4d30-b08a-e4c09432b9bb",
     "regions": {
      "701cdc94-3399-40dc-8e45-10d6edbf0959": {
       "attrs": {
        "height": 0.4,
        "width": 0.8,
        "x": 0.1,
        "y": 0.5
       },
       "content": {
        "cell": "fa78fa75-54cf-40d3-b52c-4b51c5070d9a",
        "part": "whole"
       },
       "id": "701cdc94-3399-40dc-8e45-10d6edbf0959"
      },
      "81f01069-a0c6-4ab1-98d1-d465e96aac6d": {
       "attrs": {
        "height": 0.8,
        "width": 0.8,
        "x": 0.1,
        "y": 0.1
       },
       "content": {
        "cell": "fb58a52c-71e9-402d-af86-eab194cf8050",
        "part": "whole"
       },
       "id": "81f01069-a0c6-4ab1-98d1-d465e96aac6d"
      },
      "ae73fc9b-89cf-4405-ab54-34e6c8b73a19": {
       "attrs": {
        "height": 0.4,
        "width": 0.8,
        "x": 0.1,
        "y": 0.5
       },
       "content": {
        "cell": "241f356d-567a-421d-b27c-7ce2d146d1bb",
        "part": "whole"
       },
       "id": "ae73fc9b-89cf-4405-ab54-34e6c8b73a19"
      }
     }
    },
    "b7c25bc1-4dd7-421b-9951-0c0c403c176d": {
     "id": "b7c25bc1-4dd7-421b-9951-0c0c403c176d",
     "prev": "76838eab-c2c3-4ff3-b09f-854a7c74c6d4",
     "regions": {
      "47f524f5-68f8-49df-9a61-61eab6cab03c": {
       "attrs": {
        "height": 0.4,
        "width": 0.8,
        "x": 0.1,
        "y": 0.5
       },
       "content": {
        "cell": "966e050d-5739-4ef9-a2ae-9a4957e14f3e",
        "part": "whole"
       },
       "id": "47f524f5-68f8-49df-9a61-61eab6cab03c"
      },
      "4b3ba01a-29e7-4e67-ac78-988162f7dde9": {
       "attrs": {
        "height": 0.8,
        "width": 0.8,
        "x": 0.1,
        "y": 0.1
       },
       "content": {
        "cell": "91401f60-44eb-42b2-86ea-c82b5e955ace",
        "part": "whole"
       },
       "id": "4b3ba01a-29e7-4e67-ac78-988162f7dde9"
      },
      "a47d9662-0a49-4b84-aae0-908067552ebd": {
       "attrs": {
        "height": 0.4,
        "width": 0.8,
        "x": 0.1,
        "y": 0.5
       },
       "content": {
        "cell": "6de4dae8-c949-4927-89a3-9741aba83e8d",
        "part": "whole"
       },
       "id": "a47d9662-0a49-4b84-aae0-908067552ebd"
      },
      "e64668fe-aafe-4e24-a46d-6a6266eeee77": {
       "attrs": {
        "height": 0.4,
        "width": 0.8,
        "x": 0.1,
        "y": 0.5
       },
       "content": {
        "cell": "7068c96d-f8f0-42bb-bdfd-dcbf9335323c",
        "part": "whole"
       },
       "id": "e64668fe-aafe-4e24-a46d-6a6266eeee77"
      }
     }
    },
    "d3ecec0a-67fe-4558-a268-50695fd7fe1c": {
     "id": "d3ecec0a-67fe-4558-a268-50695fd7fe1c",
     "prev": "fcda7de6-cb93-4b63-9dea-d5f23fecd968",
     "regions": {
      "b268bb57-2543-4b91-b9c0-84aa3cf09d5c": {
       "attrs": {
        "height": 0.8,
        "width": 0.8,
        "x": 0.1,
        "y": 0.1
       },
       "content": {
        "cell": "67aab8fa-45cd-4ede-8285-e3dad22d8b16",
        "part": "whole"
       },
       "id": "b268bb57-2543-4b91-b9c0-84aa3cf09d5c"
      }
     }
    },
    "e92a9020-6631-400a-aa50-46c1fa0a5f0c": {
     "id": "e92a9020-6631-400a-aa50-46c1fa0a5f0c",
     "prev": "ee94ae9b-9e13-414c-a017-db1d8913aaa8",
     "regions": {
      "bb15b4ea-132f-4146-ab77-93a4969c2904": {
       "attrs": {
        "height": 0.8,
        "width": 0.8,
        "x": 0.1,
        "y": 0.1
       },
       "content": {
        "cell": "7d5d2002-5cae-4d5f-8e2e-d5eaf5cd17da",
        "part": "whole"
       },
       "id": "bb15b4ea-132f-4146-ab77-93a4969c2904"
      }
     }
    },
    "ee94ae9b-9e13-414c-a017-db1d8913aaa8": {
     "id": "ee94ae9b-9e13-414c-a017-db1d8913aaa8",
     "prev": "f8fce519-927e-4fd0-88d8-23ece4403794",
     "regions": {
      "0b578bb1-2cd1-480b-8d65-dde0861851cb": {
       "attrs": {
        "height": 0.8,
        "width": 0.8,
        "x": 0.1,
        "y": 0.1
       },
       "content": {
        "cell": "f1c699bc-6717-4eb9-8e6d-66d433ba4618",
        "part": "whole"
       },
       "id": "0b578bb1-2cd1-480b-8d65-dde0861851cb"
      }
     }
    },
    "f8fce519-927e-4fd0-88d8-23ece4403794": {
     "id": "f8fce519-927e-4fd0-88d8-23ece4403794",
     "prev": "4792c0cc-ccd4-48bf-9b0e-a3c1f0f3008d",
     "regions": {
      "7510ae01-fe22-48b0-92cb-29b880cc85fc": {
       "attrs": {
        "height": 0.8,
        "width": 0.8,
        "x": 0.1,
        "y": 0.1
       },
       "content": {
        "cell": "e61ba538-5828-4a5a-a2c5-4fcceac35889",
        "part": "whole"
       },
       "id": "7510ae01-fe22-48b0-92cb-29b880cc85fc"
      }
     }
    },
    "fcda7de6-cb93-4b63-9dea-d5f23fecd968": {
     "id": "fcda7de6-cb93-4b63-9dea-d5f23fecd968",
     "prev": "03210a56-863e-4749-b7ba-ed75bfceceee",
     "regions": {
      "43f5b3bd-9e0c-4a98-a18c-1b9f7beaa3b8": {
       "attrs": {
        "height": 0.8,
        "width": 0.8,
        "x": 0.1,
        "y": 0.1
       },
       "content": {
        "cell": "318099ba-93dd-4c2c-a3ee-fc6622c472c8",
        "part": "whole"
       },
       "id": "43f5b3bd-9e0c-4a98-a18c-1b9f7beaa3b8"
      },
      "dbab9920-f08a-457a-949d-2c8289707798": {
       "attrs": {
        "height": 0.4,
        "width": 0.8,
        "x": 0.1,
        "y": 0.5
       },
       "content": {
        "cell": "8bb35ef7-00cc-4ad9-9dd4-6fac480df38e",
        "part": "whole"
       },
       "id": "dbab9920-f08a-457a-949d-2c8289707798"
      }
     }
    }
   },
   "themes": {}
  },
  "varInspector": {
   "cols": {
    "lenName": 16,
    "lenType": 16,
    "lenVar": 40
   },
   "kernels_config": {
    "python": {
     "delete_cmd_postfix": "",
     "delete_cmd_prefix": "del ",
     "library": "var_list.py",
     "varRefreshCmd": "print(var_dic_list())"
    },
    "r": {
     "delete_cmd_postfix": ") ",
     "delete_cmd_prefix": "rm(",
     "library": "var_list.r",
     "varRefreshCmd": "cat(var_dic_list()) "
    }
   },
   "types_to_exclude": [
    "module",
    "function",
    "builtin_function_or_method",
    "instance",
    "_Feature"
   ],
   "window_display": false
  }
 },
 "nbformat": 4,
 "nbformat_minor": 2
}
