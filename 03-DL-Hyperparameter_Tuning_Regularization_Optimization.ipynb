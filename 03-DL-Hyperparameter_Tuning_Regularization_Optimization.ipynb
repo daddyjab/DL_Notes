{
 "cells": [
  {
   "cell_type": "markdown",
   "metadata": {},
   "source": [
    "# Deep Learning Notes - Hyperparameter Tuning, Regularization, Optimization\n",
    "* Author: Jeffery Brown\n",
    "* Topic: Deep Learning\n",
    "* GitHub Repo: https://github.com/daddyjab/DL_Notes\n"
   ]
  },
  {
   "cell_type": "markdown",
   "metadata": {},
   "source": [
    "## <font color=\"blue\">Summary</font>\n",
    "This Jupyter Notebook provides explores hyperparameter tuning, regularization, and optimization of a deep neural network.\n",
    "\n",
    "TBD\n",
    "\n",
    "<!--\n",
    "\n",
    "1. First, key concepts are introduced:\n",
    "\n",
    "    * A representation of a neural network node is introduced and key elements are described\n",
    "    * Forward and Backward Propagation and their role in calculation of predictions and loss/cost (Forward Propagation) and in optimization of model coeffiencients using gradient descent (Backward Propagation) are discussed.\n",
    "    * Python code snippets for performing the calculations is then shown, including use of the `numpy` library for vector and matrix calculations.\n",
    "    \n",
    "2. Next the single node neural network is implemented:\n",
    "\n",
    "    * Dependencies and the MNIST dataset of handwritten digits 0 through 9 are loaded\n",
    "    * Dataset is explored, including checking for missing or invalid values\n",
    "    * The training and testing labels are changed from an integer 0 to 9 matching the handwritten digit image, to a 1 or 0 indicating that the image is (1) or is not (0) a target single digit selected for the analysis, and a helper function is defined and used to plot a sample of digits and their associated labels\n",
    "    * Next, a class `SingleNode()` is defined that comprises the neural network node model, including methods for instantiation, parameter checking, fitting, prediction, and evaluation.  Attributes are defined for store key values such as model coefficients, flags indicating the status of fitting, etc.\n",
    "    * The class is then used to instantiate a model, fit the training data to the model, make predictions using training and testing data, and then evaluate the predictions results.  A helper function is defined and used to plot the model fitting history, which are shown in a figure below.\n",
    "    \n",
    "-->"
   ]
  },
  {
   "cell_type": "markdown",
   "metadata": {},
   "source": [
    "## Results\n",
    "\n",
    "<!-- \n",
    "\n",
    "The single node neural network was used fitted using 60,000 training examples in batches of 32 examples per iteration.  The results for some digits were very good, while the probably of correctly predicting the target digit was lower with other digits.\n",
    "* With `SINGLE_TARGET_DIGIT = 1`, the model performed well, which might be expected since the digit `1` is fairly different in appearance than other digits 0 and 2 through 9.\n",
    "\n",
    "| <b>Table DL-01-A: Single Node Neural Network Performance - Single Target Digit = 1</b> |\n",
    "|:--------------------------------------------------------------------------------------:|\n",
    "\n",
    "|            | Training Data | Testing Data |\n",
    "|:------------|:---------------:|:--------------:|\n",
    "| Count of Examples | 60,000 | 10,000 |\n",
    "| Count of Target Digit in Examples | 6,742 (11.2%) | 1,135 (11.3%) |\n",
    "| Accuracy | 0.9840 | 0.9861 |\n",
    "| Probability of Predicting Correctly<br>when Example is the Target Digit | 0.9058 | 0.9075 |\n",
    "| Probability of Predicting Correctly<br>when Example is Not the Target Digit | 0.9939 | 0.9962 |\n",
    "| Fitting Epochs (Iterations) | 300 | n/a |\n",
    "| Fitting Batch Size | 32 | n/a |\n",
    "| Minimum Batch Loss | 0.0199 @ Epoch 206 | n/a |\n",
    "\n",
    "<br>\n",
    "\n",
    "* However, with `SINGLE_TARGET_DIGIT = 3`, a digit that is more easily confused with other digits, the model performed more poorly.\n",
    "    * The probability of the model correctly predicting the target digit = 3 is low at 0.6525, reflecting the more difficult challenge in distinguishing 3 from digits such as 0 or 8.  The model is bias towards digits being non-target (vs. being the target digit 3).\n",
    "    * The overall accuracy is high, but this is mainly because 88.7% of examples are *not* the target digit 3, and correct predictions of digits as being non-target is good at 0.9945.\n",
    "\n",
    "| <b>Table DL-01-B: Single Node Neural Network Performance - Single Target Digit = 3</b> |\n",
    "|:--------------------------------------------------------------------------------------:|\n",
    "\n",
    "|            | Training Data | Testing Data |\n",
    "|:------------|:---------------:|:--------------:|\n",
    "| Count of Examples | 60,000 | 10,000 |\n",
    "| Count of Target Digit in Examples | 6,131 (10.2% of total) | 1,010 (10.1% of total) |\n",
    "| Accuracy | 0.9581 | 0.9600 |\n",
    "| Probability of Predicting Correctly<br>when Example is the Target Digit | 0.6462 | 0.6525 |\n",
    "| Probability of Predicting Correctly<br>when Example is Not the Target Digit | 0.9936 | 0.9945 |\n",
    "| Fitting Epochs (Iterations) | 300 | n/a |\n",
    "| Fitting Batch Size | 32 | n/a |\n",
    "| Minimum Batch Loss | 0.0560 @ Epoch 128 | n/a |\n",
    "\n",
    "<br><br>\n",
    "* Going foward, the single node  neural network class can be modified to implement more capable neural networks with multiple nodes and layers.\n",
    "\n",
    "-->"
   ]
  },
  {
   "cell_type": "markdown",
   "metadata": {},
   "source": [
    "TBD\n",
    "\n",
    "<!--\n",
    "\n",
    "| Figure DL-01-C: Model Fit History for a Single Node Neural Network - Single Target Digit = 1 | Figure DL-01-D: Model Fit History for a Single Node Neural Network - Single Target Digit = 3 |\n",
    "|:----------:|:----------:|\n",
    "| ![Figure DL-01-C: Model Fit History for a Single Node Neural Network - Single Target Digit = 1...](docs/DL-01-Figure-C-Model_Fit_History-Target_1.png \"Figure DL-01-C: Model Fit History for a Single Node Neural Network - Single Target Digit = 1\") | ![Figure DL-01-D: Model Fit History for a Single Node Neural Network - Single Target Digit = 3...](docs/DL-01-Figure-D-Model_Fit_History-Target_3.png \"Figure DL-01-D: Model Fit History for a Single Node Neural Network - Single Target Digit = 3\") |\n",
    "\n",
    "<br><br>\n",
    "\n",
    "-->"
   ]
  },
  {
   "cell_type": "markdown",
   "metadata": {},
   "source": [
    "TBD\n",
    "\n",
    "<!--\n",
    "| Figure DL-01-C: Model Fit History for a Single Node Neural Network - Single Target Digit = 1 |\n",
    "|:----------:|\n",
    "| ![Figure DL-01-C: Model Fit History for a Single Node Neural Network - Single Target Digit = 1...](docs/DL-01-Figure-C-Model_Fit_History-Target_1.png \"Figure DL-01-C: Model Fit History for a Single Node Neural Network - Single Target Digit = 1\") |\n",
    "\n",
    "<br><br>\n",
    "-->"
   ]
  },
  {
   "cell_type": "markdown",
   "metadata": {},
   "source": [
    "TBD\n",
    "<!--\n",
    "| Figure DL-01-D: Model Fit History for a Single Node Neural Network - Single Target Digit = 3 |\n",
    "|:----------:|\n",
    "| ![Figure DL-01-D: Model Fit History for a Single Node Neural Network - Single Target Digit = 3...](docs/DL-01-Figure-D-Model_Fit_History-Target_3.png \"Figure DL-01-D: Model Fit History for a Single Node Neural Network - Single Target Digit = 3\") |\n",
    "\n",
    "<br><br>\n",
    "-->"
   ]
  },
  {
   "cell_type": "markdown",
   "metadata": {},
   "source": [
    "## <font color=\"red\"> IMPORTANT </font>\n",
    "For introductory notes regarding neural networks, see:\n",
    "* [01-DL-Single_Node_Neural_Network (Jupyter Notebook)](https://github.com/daddyjab/DL_Notes/blob/master/01-DL-Single_Node_Neural_Network.ipynb), which includes discussion of:\n",
    "    * Representation of a Single Neuron (Node)\n",
    "    * Forward and Backward Propagation\n",
    "    * Activation Functions\n",
    "    * Loss Function\n",
    "    * Cost Function\n",
    "    * Forward Propagation Calculations\n",
    "    * Optimization using Gradient Descent\n",
    "    * Backward Propagation Calculations\n",
    "    * Application of the single node neural network to classification of handwritten digits 0 to 9 as a single target digit or not the target digit.\n",
    "\n",
    "<P>\n",
    "    \n",
    "* [02-DL-Deep_Neural_Network (Jupyter Notebook)](https://github.com/daddyjab/DL_Notes/blob/master/02-DL-Deep_Neural_Network.ipynb), which includes discussion of:\n",
    "    * Representation of Neural Network with Multiple Layers\n",
    "    * File \"NN_Support\" - Activation, Evaluation, Plotting Functions: `sigmoid`, `relu`, `leaky_relu`, `evaluate`, `plot_fit_history`\n",
    "    * File \"Class_Multilayer_NN\" - Multilayer Neural Network Class `Multilayer_NN`, with public methods: `configure`, `fit`, `predict`, `get_hist`, `get_config`, \n",
    "    * Application of the multilayer neural network to classification of handwritten digits 0 to 9 as a single target digit or not the target digit.\n"
   ]
  },
  {
   "cell_type": "markdown",
   "metadata": {},
   "source": [
    "## <font color=\"blue\"> Representation of Neural Network with Multiple Layers </font>\n",
    "A <b>Neural Network</b> with multiple layers can be represented as shown in Figure DL-02-A: Representation of a Neural Network with Multiple Layers.\n",
    "<P>\n",
    "\n",
    "| Figure DL-02-A: Representation of a Neural Network with Multiple Layers |\n",
    "|:----------:|\n",
    "| ![Figure DL-02-A: Representation of a Neural Network with Multiple Layers is Loading...](docs/DL-02-Figure-A-Neural_Network_Multiple_Layers.png \"Figure DL-02-A: Representation of a Neural Network with Multiple Layers\") |"
   ]
  },
  {
   "cell_type": "markdown",
   "metadata": {},
   "source": [
    "### Forward Propagation Terms:\n",
    "    \n",
    "| Term<br>(for Layer $l$<br>of $L$ total layers) | Description | Definition | Dimensions<br>(rows, columns)|\n",
    "|:----:|:-----------:|:----------------------------------------:|:------------------:|\n",
    "| Input $X$ (or $A^{[0]}$) | Input features of the training or testing examples | Matrix of $n_x$ features for each of $m$ examples | ( $n_x$ features, $m$ examples )\n",
    "| Actual Output $Y$ | Actual labels associated with the training or testing examples | Matrix with $n_y$ outputs for each of $m$ examples | ( $n_y$ outputs, $m$ examples )\n",
    "| Weights $W^{[l]}$ | Weighting coefficients | Matrix of coefficients mapping $n^{[l-1]}$ outputs from the previous layer to $n^{[l]}$ outputs in the current layer| ( $n^{[l]}$ outputs in layer $l$,<br>$n^{[l-1]}$ outputs in layer $l-1$ )\n",
    "| Bias $b^{[l]}$ | Bias coefficients | Vector of coefficients independent of the outputs from the previous layer | ( $n^{[l]}$ units in layer $l$, 1)\n",
    "| Linear function $Z^{[l]}$ | A linear function of the outputs from the previous layer $A^{[l-1]}$ using coefficients $W$ and $b$ | Matrix $Z^{[l]}~=~W^T A^{[l-1]}+b$ | ( $n^{[l]}$ outputs in layer $l$, $m$ examples )\n",
    "| Activation $A^{[l]}$, with:<br>Input $A^{[0]} = X$<br>Predicted Output $A^{[L]} ~=~ \\widehat{Y}$ | Predicted output for the layer based upon output of the layers and an activation function | Matrix $A^{[l]}~=~g^{[l]}(~Z^{[l]}~)$ | ( $n^{[l]}$ outputs in layer $l$, $m$ examples )\n",
    "| Activation Function $g^{[l]}(z)$ | A function which transforms the output of the linear function $z$ and is generally a nonlinear function, such as: sigmoid $\\sigma$, TanH, ReLU, Leaky ReLU, etc. | See [01-DL-Single_Node_Neural_Network (Jupyter Notebook)](https://github.com/daddyjab/DL_Notes/blob/master/01-DL-Single_Node_Neural_Network.ipynb) for the definition of several activation functions $g(z)$ and their derivatives $g^{\\prime}(z)$  | n/a |\n",
    "| Cost Function $J(w,~b)$ | *For a multiple examples*, a measure of the error between the predicted $A^{[L]}$ and actual $Y$ outputs of the neural network | $\\eqalignno {\n",
    "J(w,~b)\n",
    "&= {1 \\over m} \\sum_{i=1}^m \\mathscr{L}(a,~y)\\cr\n",
    "&=- {1 \\over m} \\sum_{i=1}^m \\left [ Y \\log{(A^{[L]}) } + (1-Y) \\log{(1-A^{[L]})} \\right ]\n",
    "}$ | (1, 1) |\n",
    "| Loss Function $\\mathscr{L}(a,~y)$ | *For a single example*, a measure of the error between the predicted $A^{[L]}$ and actual $Y$ outputs of the neural network | $\\mathscr{L}(a,~y)=-(y\\log{(a)}+(1-y)\\log{(1-a)}$ | (1, 1) |\n",
    "| ------------------------------------- | ----------------- | ------------------------------------------------------------------------------| ---------------------------------------------------------- |"
   ]
  },
  {
   "cell_type": "markdown",
   "metadata": {},
   "source": [
    "### Backward Propagation Terms:\n",
    "\n",
    "| Term<br>(for Layer $l$<br>of $L$ total layers) | Description | Definition | Dimensions<br>(rows, columns)|\n",
    "|:----:|:-----------:|:----------------------------------------:|:------------------:|\n",
    "| $dA^{[l]}$ | Partial derivative ${ {\\partial \\mathscr{L}(a,~y)} \\over {\\partial a} }$, the change in loss $\\mathscr{L}(a,~y)$ by the change in $A$ | $\\eqalignno {\n",
    "dA^{[L]} &= - { { Y \\over { A^{[L]} } } + { {(1-Y)} \\over { (1-A^{[L]}) } } }\\cr\n",
    "dA^{[l-1]} &= W^{[l]^{T}} dZ^{[l]}\\cr\n",
    "}$ | ( $n^{[l]}$ outputs in layer $l$, $m$ examples )\n",
    "| $dZ^{[l]}$ | Partial derivative ${ {\\partial \\mathscr{L}(a,~y)} \\over {\\partial z} }$, the change in loss $\\mathscr{L}(a,~y)$ by the change in $Z$ | $\\eqalignno {\n",
    "dZ^{[L]} &= A^{[L]} - Y\\cr\n",
    "dZ^{[l-1]} &= dA^{[l-1]} * g^{\\prime [l-1]}( Z^{[l-1]} )\\cr\n",
    "&= W^{[l]^{T}} dZ^{[l]} * g^{\\prime [l-1]}( Z^{[l-1]} )\\cr\n",
    "}$ | ( $n^{[l]}$ outputs in layer $l$, $m$ examples )\n",
    "| $dW^{[l]}$ | Partial derivative ${ {\\partial J(w,~b)} \\over {\\partial W} }$, the change in cost $J(w,~b)$ by the change in $W$.<br>Used to adjust the Weights $W$ during each iteration, scaled by the learning rate $\\alpha$. | $\\eqalignno {\n",
    "dW^{[l]} &= {1 \\over m} dZ^{[l]} A^{[l-1]^{T}}\\cr\n",
    "W^{[l]} &= W^{[l]} - \\alpha ~ dW^{[l]}\n",
    "}$ | ( $n^{[l]}$ outputs in layer $l$,<br>$n^{[l-1]}$ outputs in layer $l-1$ )\n",
    "| $db^{[l]}$ | Partial derivative ${ {\\partial J(w,~b)} \\over {\\partial b} }$, the change in cost $J(w,~b)$ by the change in $b$.<br>Used to adjust the Bias $b$ during each iteration, scaled by the learning rate $\\alpha$. | $\\eqalignno {\n",
    "db^{[l]} &= {1 \\over m} \\sum_{i=1}^m dZ^{[l]}\\cr\n",
    "b^{[l]} &= b^{[l]} - \\alpha ~ db^{[l]}\n",
    "}$ | ( $n^{[l]}$ outputs in layer $l$, 1 )\n",
    "| ------------------------------------- | ----------------- | ------------------------------------------------------------------------------| ---------------------------------------------------------- |"
   ]
  },
  {
   "cell_type": "markdown",
   "metadata": {},
   "source": [
    "# Dependencies - Standard"
   ]
  },
  {
   "cell_type": "code",
   "execution_count": 1,
   "metadata": {
    "nbpresent": {
     "id": "828c2e12-b1c6-4994-8f55-ce86373b6c97"
    },
    "scrolled": true,
    "slideshow": {
     "slide_type": "fragment"
    }
   },
   "outputs": [
    {
     "name": "stderr",
     "output_type": "stream",
     "text": [
      "Using TensorFlow backend.\n"
     ]
    }
   ],
   "source": [
    "# Jeff's \"standard\" list of libraries to import  - overkill, but keeping them all for convenience... :)\n",
    "\n",
    "%matplotlib inline\n",
    "# %matplotlib notebook\n",
    "import matplotlib.pyplot as plt\n",
    "import seaborn as sns\n",
    "from mpl_toolkits.mplot3d import Axes3D    # Support 3D graphing\n",
    "\n",
    "import numpy as np\n",
    "import pandas as pd\n",
    "from pandas.plotting import table\n",
    "import math\n",
    "import random\n",
    "\n",
    "from pprint import pprint\n",
    "\n",
    "\n",
    "# Visualization\n",
    "import graphviz\n",
    "import pydotplus\n",
    "\n",
    "from IPython.display import Image\n",
    "\n",
    "# # Machine Learning - Data Preparation and Pre-Processing\n",
    "# from sklearn.model_selection import train_test_split # Split data into training and testing samples\n",
    "# from sklearn.model_selection import cross_val_score  # Score a model using k-fold or other cross validation\n",
    "\n",
    "# from sklearn.preprocessing import OneHotEncoder   # Convert categorical integer features (X) to One-Hot encoded values\n",
    "# from sklearn.preprocessing import LabelEncoder    # Convert categorical labeled values to categorical integer values\n",
    "# from sklearn.preprocessing import LabelBinarizer  # Convert categorical labeled values to Binary encoded values\n",
    "\n",
    "from sklearn.preprocessing import StandardScaler  # Scale numerical features to standard normal distribution\n",
    "from sklearn.preprocessing import MinMaxScaler    # Scale numerical values based upon mix/max values\n",
    "\n",
    "# # Machine Learning - Sci-Kit Learn - Models - Regression\n",
    "# from sklearn.linear_model import LinearRegression  # TBD\n",
    "# from sklearn.linear_model import Lasso             # TBD\n",
    "# from sklearn.linear_model import Ridge             # TBD\n",
    "# from sklearn.linear_model import ElasticNet        # TBD\n",
    "\n",
    "# # Machine Learning - Sci-Kit Learn - Models - Classification\n",
    "# from sklearn.linear_model import LogisticRegression   # Logistic Regression Classifier\n",
    "# from sklearn import tree                              # Decision Tree Classifier\n",
    "# from sklearn.ensemble import RandomForestClassifier   # Random Forest Classifier\n",
    "# from sklearn import svm                               # Support Vector Machine Classifier\n",
    "# from sklearn.neighbors import KNeighborsClassifier    # K-Nearest Neighbors (KNN)\n",
    "\n",
    "# # Machine Learning - GridSearch for Hyper-Parameter tuning\n",
    "# from sklearn.model_selection import GridSearchCV      # Grid Search\n",
    "\n",
    "# # Machine Learning - Quantify Model Performance\n",
    "# from sklearn.metrics import mean_squared_error    # Mean Squared Error (MSE) metric\n",
    "# from sklearn.metrics import r2_score              # R-squared (Coefficient of Determination) metric\n",
    "# from sklearn.metrics import confusion_matrix      # Generate a confusion matrix (actual vs. predicted counts)\n",
    "# from sklearn.metrics import classification_report # Calculate metrics for prediction performance\n",
    "# from sklearn.metrics import precision_score       # Calculate the precision: Tp / (Tp + Fp) => Ability to avoid false negatives\n",
    "# from sklearn.metrics import recall_score          # Calculate the recall: Tp / (Tp + Fn) => Ability to find all positive samples\n",
    "# from sklearn.metrics import f1_score              # Calculate the F1 score: 2*(precision*recall)/(precision+recall)\n",
    "\n",
    "# # Machine Learning - Dataset Generation\n",
    "# from sklearn.datasets import make_regression     # Generate linear data\n",
    "# from sklearn.datasets import make_s_curve        # Generate nonlinear data\n",
    "# from sklearn.datasets import make_blobs          # Generate blobs for classification\n",
    "# from sklearn.datasets import make_circles        # Generate circles for classification\n",
    "# from sklearn.datasets import load_iris           # Sample multi-class dataset for classification\n",
    "# from sklearn.datasets import make_classification # Generate datasets for classification\n",
    "\n",
    "# # Machine Learning - Keras (Tensorflow) - Models\n",
    "# from keras.models import Sequential               # Sequential model serving as foundation for neural network\n",
    "# from keras.layers import Dense                    # Nodes for specifying input, hidden, and output layers\n",
    "\n",
    "# # Machine Learning - Keras (Tensorflow) - Encoding\n",
    "# from keras.utils import to_categorical            # One-Hot Encoder provided through Keras\n",
    "\n",
    "# # Machine Learning - Keras (Tensorflow) - Other related Tools\n",
    "# from keras.utils import plot_model                # Plot a neural network model\n",
    "# from keras.models import load_model               # Load a saved machine learning model\n",
    "# from keras.preprocessing import image             # Loads an image for application of machine learning\n",
    "# from keras.preprocessing.image import img_to_array # Converts an image to a numpy array\n",
    "\n",
    "# Machine Learning - Keras (Tensorflow) -  Dataset Generation\n",
    "from keras.datasets import mnist                  # Images: Handwritten digits 0-9 (28x28 grayscale, 60K train, 10K test)"
   ]
  },
  {
   "cell_type": "markdown",
   "metadata": {},
   "source": [
    "# Dependency: \"NN_Support\" (Activation, Evaluation, Plotting Functions)"
   ]
  },
  {
   "cell_type": "code",
   "execution_count": 2,
   "metadata": {},
   "outputs": [],
   "source": [
    "from NN_Support import (sigmoid, relu, leaky_relu, evaluate, plot_fit_history)"
   ]
  },
  {
   "cell_type": "markdown",
   "metadata": {},
   "source": [
    "## Activation Functions"
   ]
  },
  {
   "cell_type": "code",
   "execution_count": 3,
   "metadata": {},
   "outputs": [
    {
     "name": "stdout",
     "output_type": "stream",
     "text": [
      "Test Array: [-0.8  0.   0.8]\n",
      "Sigmoid: [0.31002552 0.5        0.68997448], Derivative of Sigmoid: [0.2139097 0.25      0.2139097]\n",
      "ReLU: [0.  0.  0.8], Derivative of ReLU: [0 0 1]\n",
      "Leaky ReLU: [-0.008  0.     0.8  ], Derivative of Leaky ReLU: [0.01 0.01 1.  ]\n"
     ]
    }
   ],
   "source": [
    "# TRYIT: Activation Functions\n",
    "test_array_config = 0.8\n",
    "test_array = np.array([-test_array_config, 0, test_array_config])\n",
    "\n",
    "print(f\"Test Array: {test_array}\")\n",
    "print(f\"Sigmoid: {sigmoid( test_array )}, Derivative of Sigmoid: {sigmoid( test_array, True )}\")\n",
    "print(f\"ReLU: {relu( test_array )}, Derivative of ReLU: {relu( test_array, True )}\")\n",
    "print(f\"Leaky ReLU: {leaky_relu( test_array )}, Derivative of Leaky ReLU: {leaky_relu( test_array, True )}\")"
   ]
  },
  {
   "cell_type": "markdown",
   "metadata": {},
   "source": [
    "## Function to Evaluate Prediction Accuracy"
   ]
  },
  {
   "cell_type": "code",
   "execution_count": 4,
   "metadata": {},
   "outputs": [
    {
     "name": "stdout",
     "output_type": "stream",
     "text": [
      "np.bincount for abc_1 [100 values]: [54 46]\n",
      "np.bincount for abc_2 [100 values]: [43 57]\n"
     ]
    },
    {
     "data": {
      "text/plain": [
       "{'accuracy': 0.55,\n",
       " 'proba_label_1': 0.5087719298245614,\n",
       " 'proba_label_0': 0.6046511627906976}"
      ]
     },
     "execution_count": 4,
     "metadata": {},
     "output_type": "execute_result"
    }
   ],
   "source": [
    "# TRYIT: Evaluate Prediction Accuracy\n",
    "abc_1 = np.squeeze(np.random.randint( 0, 2, size=(1,100) ))\n",
    "abc_2 = np.squeeze(np.random.randint( 0, 2, size=(1,100) ))\n",
    "print(f\"np.bincount for abc_1 [{len(abc_1)} values]: {np.bincount(abc_1)}\")\n",
    "print(f\"np.bincount for abc_2 [{len(abc_2)} values]: {np.bincount(abc_2)}\")\n",
    "evaluate(abc_1, abc_2)"
   ]
  },
  {
   "cell_type": "markdown",
   "metadata": {},
   "source": [
    "# Dependency: \"Class_Multilayer_NN\" (Multilayer Neural Network Class)"
   ]
  },
  {
   "cell_type": "code",
   "execution_count": 5,
   "metadata": {},
   "outputs": [],
   "source": [
    "from Class_Multilayer_NN import (Multilayer_NN)"
   ]
  },
  {
   "cell_type": "code",
   "execution_count": 6,
   "metadata": {},
   "outputs": [
    {
     "name": "stdout",
     "output_type": "stream",
     "text": [
      "X: (5, 320), y: (1, 320)\n"
     ]
    }
   ],
   "source": [
    "# TRYIT: Multilayer Neural Network Class\n",
    "all_layers_temp = [5, 2, 1]\n",
    "m_temp = 32*10\n",
    "X_temp = np.random.rand( all_layers_temp[0], m_temp )\n",
    "y_temp = np.random.randint( 0, 2, size = (all_layers_temp[-1], m_temp) )\n",
    "print(f\"X: {X_temp.shape}, y: {y_temp.shape}\")"
   ]
  },
  {
   "cell_type": "code",
   "execution_count": 7,
   "metadata": {},
   "outputs": [],
   "source": [
    "# abc = Multilayer_NN()\n",
    "# abc.configure(all_layers_temp)\n",
    "# abc"
   ]
  },
  {
   "cell_type": "code",
   "execution_count": 8,
   "metadata": {},
   "outputs": [
    {
     "data": {
      "text/plain": [
       "Multilayer_NN({'is_configured': True, 'is_fitted': False, 'alpha': None, 'lambda': None, 'batch_size': None, 'max_iter': None, 'm': None, 'n_x': 5, 'n_y': 1, 'L': 2, 'all_layers': [5, 2, 1]})"
      ]
     },
     "execution_count": 8,
     "metadata": {},
     "output_type": "execute_result"
    }
   ],
   "source": [
    "abc = Multilayer_NN(all_layers_temp)\n",
    "abc"
   ]
  },
  {
   "cell_type": "code",
   "execution_count": 9,
   "metadata": {},
   "outputs": [
    {
     "name": "stdout",
     "output_type": "stream",
     "text": [
      "[Iteration: 0 => Batch Index: 0]: Cost J(w,b)=0.6384, Batch Accuracy=0.6875\n",
      "[Iteration: 1 => Batch Index: 1]: Cost J(w,b)=0.6385, Batch Accuracy=0.6250\n",
      "[Iteration: 2 => Batch Index: 2]: Cost J(w,b)=0.6937, Batch Accuracy=0.5625\n",
      "[Iteration: 3 => Batch Index: 3]: Cost J(w,b)=0.7298, Batch Accuracy=0.4062\n",
      "[Iteration: 4 => Batch Index: 4]: Cost J(w,b)=0.7359, Batch Accuracy=0.4375\n"
     ]
    }
   ],
   "source": [
    "abc.fit(X_temp, y_temp, a_batch_size = 32, a_max_iter = 5)"
   ]
  },
  {
   "cell_type": "code",
   "execution_count": 10,
   "metadata": {},
   "outputs": [
    {
     "data": {
      "text/plain": [
       "(1, 320)"
      ]
     },
     "execution_count": 10,
     "metadata": {},
     "output_type": "execute_result"
    }
   ],
   "source": [
    "y_predict_temp = abc.predict(X_temp)\n",
    "y_predict_temp.shape"
   ]
  },
  {
   "cell_type": "code",
   "execution_count": 11,
   "metadata": {},
   "outputs": [
    {
     "data": {
      "text/plain": [
       "{'accuracy': 0.51875,\n",
       " 'proba_label_1': 0.9696969696969697,\n",
       " 'proba_label_0': 0.03870967741935483}"
      ]
     },
     "execution_count": 11,
     "metadata": {},
     "output_type": "execute_result"
    }
   ],
   "source": [
    "eval_results = evaluate(y_predict_temp, y_temp)\n",
    "eval_results"
   ]
  },
  {
   "cell_type": "code",
   "execution_count": 12,
   "metadata": {},
   "outputs": [
    {
     "data": {
      "text/plain": [
       "{'n_iter': 5,\n",
       " 'cost': [0.6383657192710406,\n",
       "  0.6384676907795696,\n",
       "  0.6936765317301457,\n",
       "  0.7297516097706166,\n",
       "  0.7358989836289519],\n",
       " 'accuracy': [0.6875, 0.625, 0.5625, 0.40625, 0.4375]}"
      ]
     },
     "execution_count": 12,
     "metadata": {},
     "output_type": "execute_result"
    }
   ],
   "source": [
    "fit_history = abc.get_hist()\n",
    "fit_history"
   ]
  },
  {
   "cell_type": "code",
   "execution_count": 13,
   "metadata": {
    "scrolled": false
   },
   "outputs": [
    {
     "data": {
      "image/png": "[encoded data removed]",
      "text/plain": [
       "<Figure size 1440x720 with 2 Axes>"
      ]
     },
     "metadata": {
      "needs_background": "light"
     },
     "output_type": "display_data"
    }
   ],
   "source": [
    "plot_fit_history(fit_history, eval_results )"
   ]
  },
  {
   "cell_type": "code",
   "execution_count": null,
   "metadata": {},
   "outputs": [],
   "source": []
  },
  {
   "cell_type": "markdown",
   "metadata": {},
   "source": [
    "# Handwritten Digits 0-9 Dataset"
   ]
  },
  {
   "cell_type": "markdown",
   "metadata": {},
   "source": [
    "### Function to Plot Lists of Digits"
   ]
  },
  {
   "cell_type": "code",
   "execution_count": 14,
   "metadata": {},
   "outputs": [],
   "source": [
    "# Function to plot a list of up to 10 digits on a single subplot\n",
    "def plot_digit_list( a_X_list = None, a_y_list = None, a_find_all_digits = False):\n",
    "    # The first 10 digits from the specified list\n",
    "    \n",
    "    # If no list is specified then return None        \n",
    "    if (a_X_list is None):\n",
    "        return None\n",
    "    \n",
    "    else:\n",
    "        X_list = list(a_X_list)\n",
    "        \n",
    "    if (a_y_list is None):\n",
    "        return None\n",
    "    \n",
    "    else:\n",
    "        y_list = list(a_y_list)\n",
    "        \n",
    "    # Find All Digits flag\n",
    "    #   If True => Find and plot all digits 0-9 within the list, starting at index 0\n",
    "    #   If False => Plot up to the first 10 digits in the list\n",
    "    if a_find_all_digits:\n",
    "\n",
    "        # Flag is True: Get indices of samples for each of the digits 0-9 within the 1000 sample subset\n",
    "        # If the digit is not present in the input list then move on to the next digit\n",
    "        d_i_list = []\n",
    "        for d in range(10):\n",
    "            \n",
    "            try:\n",
    "                # Add the index at which this digit can be found to the list\n",
    "                d_i_list.append( y_list.index(d) )\n",
    "                \n",
    "            except ValueError:\n",
    "                # Digit is not present in the input list -- move on to the next digit\n",
    "                pass\n",
    "\n",
    "    else:\n",
    "        # Flag is False: Get the indices for up to the first 10 values in the list\n",
    "        d_i_list = range( min(10, len(y_list) ))\n",
    "    \n",
    "    # The iterpolation method to use for ploting the digit images\n",
    "    i_type_selected = 'lanczos'\n",
    "\n",
    "    print(\"Indices:\", d_i_list)\n",
    "\n",
    "    # Plot Classification Performance results: Best Score vs. Mean Fit Time (ms)\n",
    "    fig = plt.figure(figsize=(20,9))\n",
    "\n",
    "    # Create subplots for each of the sampled digits\n",
    "    for i in range(len(d_i_list)):\n",
    "        # Create a subplot for this iteration\n",
    "        ax = fig.add_subplot( math.ceil(len(d_i_list)/min(5, len(d_i_list))), min(5, len(d_i_list)), i+1 )\n",
    "\n",
    "        # Display a note for each subplot\n",
    "        point_text = f\"Label: {y_list[d_i_list[i]]}\"\n",
    "        point_text += f\"\\nSample Index: {d_i_list[i]}\"\n",
    "    #     ax.text(1, 2+1.4*point_text.count(\"\\n\"), point_text )\n",
    "        ax.set_title(point_text)\n",
    "\n",
    "        # Display the image\n",
    "        ax.imshow(X_list[d_i_list[i]], cmap=plt.cm.Greys, interpolation=i_type_selected)\n",
    "        \n",
    "    # Return the number of digits plotted\n",
    "    return i+1"
   ]
  },
  {
   "cell_type": "markdown",
   "metadata": {},
   "source": [
    "### Load the MNIST Handwritten Digit Dataset"
   ]
  },
  {
   "cell_type": "code",
   "execution_count": 15,
   "metadata": {},
   "outputs": [
    {
     "name": "stdout",
     "output_type": "stream",
     "text": [
      "(60000, 28, 28) (60000,) (10000, 28, 28) (10000,)\n"
     ]
    }
   ],
   "source": [
    "# Import the Keras MNIST handwritten digits sample dataset\n",
    "(X_train, y_train), (X_test, y_test) = mnist.load_data()\n",
    "print(X_train.shape, y_train.shape, X_test.shape, y_test.shape)"
   ]
  },
  {
   "cell_type": "markdown",
   "metadata": {},
   "source": [
    "### Explore the Dataset"
   ]
  },
  {
   "cell_type": "code",
   "execution_count": 16,
   "metadata": {},
   "outputs": [
    {
     "name": "stdout",
     "output_type": "stream",
     "text": [
      "Missing Values - X: 0, y: 0\n"
     ]
    }
   ],
   "source": [
    "# Look for any missing data values in the training labels\n",
    "print( f\"Missing Values - X: {np.sum(X_train == None)}, y: {np.sum(y_train == None)}\")"
   ]
  },
  {
   "cell_type": "code",
   "execution_count": 17,
   "metadata": {},
   "outputs": [
    {
     "data": {
      "text/plain": [
       "array([5923, 6742, 5958, 6131, 5842, 5421, 5918, 6265, 5851, 5949],\n",
       "      dtype=int64)"
      ]
     },
     "execution_count": 17,
     "metadata": {},
     "output_type": "execute_result"
    }
   ],
   "source": [
    "# Check for imbalance in the training data\n",
    "unique_targets = np.unique(y_train, return_counts=True)\n",
    "unique_targets[1]"
   ]
  },
  {
   "cell_type": "code",
   "execution_count": 18,
   "metadata": {},
   "outputs": [
    {
     "name": "stdout",
     "output_type": "stream",
     "text": [
      "Mean: 6000.0, Median: 5936.0\n"
     ]
    }
   ],
   "source": [
    "print(f\"Mean: {np.mean(unique_targets[1])}, Median: {np.median(unique_targets[1])}\")"
   ]
  },
  {
   "cell_type": "code",
   "execution_count": 19,
   "metadata": {},
   "outputs": [
    {
     "name": "stdout",
     "output_type": "stream",
     "text": [
      "Max: 6742, Min: 5421\n"
     ]
    }
   ],
   "source": [
    "print(f\"Max: {np.max(unique_targets[1])}, Min: {np.min(unique_targets[1])}\")"
   ]
  },
  {
   "cell_type": "code",
   "execution_count": 20,
   "metadata": {},
   "outputs": [
    {
     "name": "stdout",
     "output_type": "stream",
     "text": [
      "Std Dev: 322.082908581005\n"
     ]
    }
   ],
   "source": [
    "print(f\"Std Dev: {np.std(unique_targets[1])}\")"
   ]
  },
  {
   "cell_type": "code",
   "execution_count": 21,
   "metadata": {},
   "outputs": [
    {
     "data": {
      "image/png": "[encoded data removed]",
      "text/plain": [
       "<Figure size 1440x360 with 3 Axes>"
      ]
     },
     "metadata": {
      "needs_background": "light"
     },
     "output_type": "display_data"
    }
   ],
   "source": [
    "fig = plt.figure(figsize=(20,5))\n",
    "ax1 = fig.add_subplot(1,3,1)\n",
    "ax2 = fig.add_subplot(1,3,2)\n",
    "ax3 = fig.add_subplot(1,3,3)\n",
    "\n",
    "# Column (bar) chart\n",
    "ax1.bar(unique_targets[0], unique_targets[1])\n",
    "\n",
    "# Histogram\n",
    "h_retval = ax2.hist(unique_targets[1])\n",
    "\n",
    "# Boxplot\n",
    "b_retval = ax3.boxplot(unique_targets[1])"
   ]
  },
  {
   "cell_type": "markdown",
   "metadata": {},
   "source": [
    "### Modify the Labels to a Single Class: Target Digit or Not-Target Digit"
   ]
  },
  {
   "cell_type": "code",
   "execution_count": 22,
   "metadata": {},
   "outputs": [],
   "source": [
    "# For this single neuron exploration,\n",
    "# perform a classification for only one digit as either\n",
    "# the target digit or not the target digit\n",
    "TARGET_SINGLE_DIGIT = 3\n",
    "# TARGET_SINGLE_DIGIT = 1\n"
   ]
  },
  {
   "cell_type": "code",
   "execution_count": 23,
   "metadata": {},
   "outputs": [
    {
     "name": "stdout",
     "output_type": "stream",
     "text": [
      "Training Data: Count of TARGET_SINGLE_DIGIT [3] = 6131 occurences [10.2% of 60000 total examples]\n",
      "Training Data: y_train_single (a few samples): [1 0 1 0 0 0 0 0 0 0]\n",
      "\n",
      "Testing Data: Count of TARGET_SINGLE_DIGIT [3] = 1010 occurences [10.1% of 10000 total examples]\n",
      "Testing Data: y_test_single (a few samples): [0 0 0 0 0 0 0 0 1 0]\n"
     ]
    }
   ],
   "source": [
    "# Create training and testing arrays that classify the digit as being either TARGET_SINGLE_DIGIT (1) or not (0)\n",
    "y_train_single = np.array([ (1 if y==TARGET_SINGLE_DIGIT else 0) for y in y_train ])\n",
    "print( f\"Training Data: Count of TARGET_SINGLE_DIGIT [{TARGET_SINGLE_DIGIT}] = {np.sum(y_train_single)} occurences [{np.sum(y_train_single) / np.size(y_train_single):0.1%} of {np.size(y_train_single)} total examples]\")\n",
    "print( f\"Training Data: y_train_single (a few samples): {y_train_single[10:20]}\")\n",
    "print(\"\")\n",
    "\n",
    "y_test_single = np.array([ (1 if y==TARGET_SINGLE_DIGIT else 0) for y in y_test ])\n",
    "print( f\"Testing Data: Count of TARGET_SINGLE_DIGIT [{TARGET_SINGLE_DIGIT}] = {np.sum(y_test_single)} occurences [{np.sum(y_test_single) / np.size(y_test_single):0.1%} of {np.size(y_test_single)} total examples]\")\n",
    "print( f\"Testing Data: y_test_single (a few samples): {y_test_single[10:20]}\")\n"
   ]
  },
  {
   "cell_type": "code",
   "execution_count": 24,
   "metadata": {},
   "outputs": [
    {
     "name": "stdout",
     "output_type": "stream",
     "text": [
      "y_train_single: Not the Selected Target Single Digit, but Label == 1 => Occurences 0\n",
      "y_train_single: Is the Selected Target Single Digit, but Label == 0 => Occurrences 0\n",
      "y_test_single: Not the Selected Target Single Digit, but Label == 1 => Occurences 0\n",
      "y_test_single: Is the Selected Target Single Digit, but Label == 0 => Occurrences 0\n"
     ]
    }
   ],
   "source": [
    "# Quick check to make sure labels are correct\n",
    "check_train_df = pd.DataFrame( { 'y_train': y_train, 'y_train_single': y_train_single }, columns=['y_train', 'y_train_single'])\n",
    "check_test_df = pd.DataFrame( { 'y_test': y_test, 'y_test_single': y_test_single }, columns=['y_test', 'y_test_single'])\n",
    "\n",
    "# Check for occurrences of mismatched labels\n",
    "print( f\"y_train_single: Not the Selected Target Single Digit, but Label == 1 => Occurences { sum( (check_train_df[ 'y_train'] != TARGET_SINGLE_DIGIT) & (check_train_df[ 'y_train_single'] == 1) )}\" )\n",
    "print( f\"y_train_single: Is the Selected Target Single Digit, but Label == 0 => Occurrences { sum( (check_train_df[ 'y_train'] == TARGET_SINGLE_DIGIT) & (check_train_df[ 'y_train_single'] == 0) )}\" )\n",
    "      \n",
    "print( f\"y_test_single: Not the Selected Target Single Digit, but Label == 1 => Occurences { sum( (check_test_df[ 'y_test'] != TARGET_SINGLE_DIGIT) & (check_test_df[ 'y_test_single'] == 1) )}\" )\n",
    "print( f\"y_test_single: Is the Selected Target Single Digit, but Label == 0 => Occurrences { sum( (check_test_df[ 'y_test'] == TARGET_SINGLE_DIGIT) & (check_test_df[ 'y_test_single'] == 0) )}\" )"
   ]
  },
  {
   "cell_type": "code",
   "execution_count": 25,
   "metadata": {},
   "outputs": [
    {
     "name": "stdout",
     "output_type": "stream",
     "text": [
      "Indices: range(0, 10)\n"
     ]
    },
    {
     "data": {
      "text/plain": [
       "10"
      ]
     },
     "execution_count": 25,
     "metadata": {},
     "output_type": "execute_result"
    },
    {
     "data": {
      "image/png": "[encoded data removed]",
      "text/plain": [
       "<Figure size 1440x648 with 10 Axes>"
      ]
     },
     "metadata": {
      "needs_background": "light"
     },
     "output_type": "display_data"
    }
   ],
   "source": [
    "# Plot some samples from the training data\n",
    "plot_digit_list(X_train[10:20], y_train_single[10:20], False)"
   ]
  },
  {
   "cell_type": "code",
   "execution_count": 26,
   "metadata": {},
   "outputs": [],
   "source": [
    "# Plot some samples from the testing data\n",
    "# plot_digit_list(X_test[60:70], y_test_single[60:70], False)"
   ]
  },
  {
   "cell_type": "code",
   "execution_count": 27,
   "metadata": {},
   "outputs": [
    {
     "name": "stdout",
     "output_type": "stream",
     "text": [
      "(60000, 28, 28) (60000,) (10000, 28, 28) (10000,)\n"
     ]
    }
   ],
   "source": [
    "# Display the current shape of the input and output data\n",
    "print(X_train.shape, y_train_single.shape, X_test.shape, y_test_single.shape)"
   ]
  },
  {
   "cell_type": "code",
   "execution_count": 28,
   "metadata": {},
   "outputs": [
    {
     "name": "stdout",
     "output_type": "stream",
     "text": [
      "(60000, 784) (10000, 784)\n"
     ]
    }
   ],
   "source": [
    "# Flatten the 28x28 pixel images to a 1D array of 784 pixels\n",
    "# and setup the examples in columns (vs. rows)\n",
    "ndims = X_train.shape[1] * X_train.shape[2]\n",
    "X_train_flat = X_train.reshape(X_train.shape[0], ndims)\n",
    "X_test_flat = X_test.reshape(X_test.shape[0], ndims)\n",
    "m_train = X_train_flat.shape[0]\n",
    "m_test = X_test_flat.shape[0]\n",
    "print(X_train_flat.shape, X_test_flat.shape)"
   ]
  },
  {
   "cell_type": "code",
   "execution_count": 29,
   "metadata": {},
   "outputs": [],
   "source": [
    "# Use a scalar to scale the training data to values between 0 and 1 (MinMaxScalar)\n",
    "# Q: How would the results differ if we applied StandardScalar instead of MixMaxScalar\n",
    "x_scalar = MinMaxScaler().fit(X_train_flat)\n",
    "X_train_scaled = x_scalar.transform(X_train_flat)\n",
    "X_test_scaled = x_scalar.transform(X_test_flat)"
   ]
  },
  {
   "cell_type": "code",
   "execution_count": 30,
   "metadata": {},
   "outputs": [],
   "source": [
    "# No need to apply One-Hot Encoding to the labels\n",
    "# because we have limited the classification to only 2 values (0 or 1)\n",
    "n_classes = 2\n",
    "# y_train_encoded = to_categorical(y_train, n_classes)\n",
    "# y_test_encoded = to_categorical(y_test, n_classes)\n",
    "y_train_encoded = y_train_single.reshape(-1,1)\n",
    "y_test_encoded = y_test_single.reshape(-1,1)"
   ]
  },
  {
   "cell_type": "code",
   "execution_count": 31,
   "metadata": {},
   "outputs": [
    {
     "name": "stdout",
     "output_type": "stream",
     "text": [
      "Features: ndims = 784\n",
      "Examples: m_train = 60000, m_test = 10000\n",
      "Dimensions/Shape: X_train = (60000, 784), y_train = (60000, 1)\n",
      "Dimensions/Shape: X_test = (10000, 784), y_test = (10000, 1)\n"
     ]
    }
   ],
   "source": [
    "# Display the shape of the input and output data\n",
    "print(f\"Features: ndims = {ndims}\")\n",
    "print(f\"Examples: m_train = {m_train}, m_test = {m_test}\")\n",
    "print(f\"Dimensions/Shape: X_train = {X_train_scaled.shape}, y_train = {y_train_encoded.shape}\")\n",
    "print(f\"Dimensions/Shape: X_test = {X_test_scaled.shape}, y_test = {y_test_encoded.shape}\")\n"
   ]
  },
  {
   "cell_type": "code",
   "execution_count": null,
   "metadata": {},
   "outputs": [],
   "source": []
  },
  {
   "cell_type": "markdown",
   "metadata": {},
   "source": [
    "# Instantiate a Multilayer Neural Network"
   ]
  },
  {
   "cell_type": "code",
   "execution_count": 77,
   "metadata": {},
   "outputs": [
    {
     "data": {
      "text/plain": [
       "Multilayer_NN({'is_configured': True, 'is_fitted': False, 'alpha': None, 'lambda': None, 'batch_size': None, 'max_iter': None, 'm': None, 'n_x': 784, 'n_y': 1, 'L': 3, 'all_layers': [784, 10, 10, 1]})"
      ]
     },
     "execution_count": 77,
     "metadata": {},
     "output_type": "execute_result"
    }
   ],
   "source": [
    "# Define neural network structure\n",
    "# Input features, one or more hidden layers, outputs\n",
    "all_layers = [ ndims, 10, 10, 1 ]\n",
    "\n",
    "# Instantiate the neural network\n",
    "model = Multilayer_NN(all_layers)\n",
    "model"
   ]
  },
  {
   "cell_type": "markdown",
   "metadata": {},
   "source": [
    "# Fit the model to the training data"
   ]
  },
  {
   "cell_type": "code",
   "execution_count": 78,
   "metadata": {
    "scrolled": false
   },
   "outputs": [
    {
     "name": "stdout",
     "output_type": "stream",
     "text": [
      "[Iteration: 0 => Batch Index: 0]: Cost J(w,b)=0.6465, Batch Accuracy=0.6598\n",
      "[Iteration: 100 => Batch Index: 4]: Cost J(w,b)=0.1601, Batch Accuracy=0.9528\n",
      "[Iteration: 200 => Batch Index: 8]: Cost J(w,b)=0.1286, Batch Accuracy=0.9612\n",
      "[Iteration: 300 => Batch Index: 0]: Cost J(w,b)=0.0970, Batch Accuracy=0.9706\n",
      "[Iteration: 400 => Batch Index: 4]: Cost J(w,b)=0.0919, Batch Accuracy=0.9756\n",
      "[Iteration: 500 => Batch Index: 8]: Cost J(w,b)=0.1097, Batch Accuracy=0.9696\n",
      "[Iteration: 600 => Batch Index: 0]: Cost J(w,b)=0.0824, Batch Accuracy=0.9754\n",
      "[Iteration: 700 => Batch Index: 4]: Cost J(w,b)=0.0806, Batch Accuracy=0.9792\n",
      "[Iteration: 800 => Batch Index: 8]: Cost J(w,b)=0.1002, Batch Accuracy=0.9714\n",
      "[Iteration: 900 => Batch Index: 0]: Cost J(w,b)=0.0748, Batch Accuracy=0.9790\n",
      "[Iteration: 1000 => Batch Index: 4]: Cost J(w,b)=0.0732, Batch Accuracy=0.9814\n",
      "[Iteration: 1100 => Batch Index: 8]: Cost J(w,b)=0.0925, Batch Accuracy=0.9734\n",
      "[Iteration: 1200 => Batch Index: 0]: Cost J(w,b)=0.0693, Batch Accuracy=0.9792\n",
      "[Iteration: 1300 => Batch Index: 4]: Cost J(w,b)=0.0670, Batch Accuracy=0.9836\n",
      "[Iteration: 1400 => Batch Index: 8]: Cost J(w,b)=0.0854, Batch Accuracy=0.9750\n",
      "[Iteration: 1500 => Batch Index: 0]: Cost J(w,b)=0.0642, Batch Accuracy=0.9812\n",
      "[Iteration: 1600 => Batch Index: 4]: Cost J(w,b)=0.0616, Batch Accuracy=0.9846\n",
      "[Iteration: 1700 => Batch Index: 8]: Cost J(w,b)=0.0784, Batch Accuracy=0.9772\n",
      "[Iteration: 1800 => Batch Index: 0]: Cost J(w,b)=0.0594, Batch Accuracy=0.9822\n",
      "[Iteration: 1900 => Batch Index: 4]: Cost J(w,b)=0.0565, Batch Accuracy=0.9858\n",
      "[Iteration: 2000 => Batch Index: 8]: Cost J(w,b)=0.0718, Batch Accuracy=0.9782\n",
      "[Iteration: 2100 => Batch Index: 0]: Cost J(w,b)=0.0551, Batch Accuracy=0.9832\n",
      "[Iteration: 2200 => Batch Index: 4]: Cost J(w,b)=0.0522, Batch Accuracy=0.9880\n",
      "[Iteration: 2300 => Batch Index: 8]: Cost J(w,b)=0.0662, Batch Accuracy=0.9792\n",
      "[Iteration: 2400 => Batch Index: 0]: Cost J(w,b)=0.0516, Batch Accuracy=0.9844\n",
      "[Iteration: 2500 => Batch Index: 4]: Cost J(w,b)=0.0487, Batch Accuracy=0.9884\n",
      "[Iteration: 2600 => Batch Index: 8]: Cost J(w,b)=0.0614, Batch Accuracy=0.9798\n",
      "[Iteration: 2700 => Batch Index: 0]: Cost J(w,b)=0.0486, Batch Accuracy=0.9856\n",
      "[Iteration: 2800 => Batch Index: 4]: Cost J(w,b)=0.0458, Batch Accuracy=0.9888\n",
      "[Iteration: 2900 => Batch Index: 8]: Cost J(w,b)=0.0574, Batch Accuracy=0.9816\n"
     ]
    },
    {
     "data": {
      "text/plain": [
       "Multilayer_NN({'is_configured': True, 'is_fitted': True, 'alpha': 0.05, 'lambda': 1.0, 'batch_size': 5000, 'max_iter': 3000, 'm': 60000, 'n_x': 784, 'n_y': 1, 'L': 3, 'all_layers': [784, 10, 10, 1]})"
      ]
     },
     "execution_count": 78,
     "metadata": {},
     "output_type": "execute_result"
    }
   ],
   "source": [
    "# Set random number seed to a known value for easier comparisons later\n",
    "np.random.seed(3)\n",
    "\n",
    "# Use the fit() method to fit the model to the training data\n",
    "# NOTE: Must use transpose of X and y to ensure # of examples is in dimension 1 (vs. 0)\n",
    "model.fit(X_train_scaled.T, y_train_encoded.T, 0.05, 5000, 3000, 1.0)\n",
    "model"
   ]
  },
  {
   "cell_type": "markdown",
   "metadata": {},
   "source": [
    "# Make Predictions using the fitted model"
   ]
  },
  {
   "cell_type": "code",
   "execution_count": 79,
   "metadata": {},
   "outputs": [
    {
     "name": "stdout",
     "output_type": "stream",
     "text": [
      "Prediction Performance using Training Data (60000 examples):\n",
      "\tAccuracy: 0.9861\n",
      "\tProbability of Predicting Correctly when Actual Label is Target Digit: 0.8976\n",
      "\tProbability of Predicting Correctly when Actual Label is Not the Target Digit: 0.9961\n",
      "\n",
      "Prediction Performance using Testing Data (10000 examples):\n",
      "\tAccuracy: 0.9867\n",
      "\tProbability of Predicting Correctly when Actual Label is Target Digit: 0.9139\n",
      "\tProbability of Predicting Correctly when Actual Label is Not the Target Digit: 0.9949\n"
     ]
    }
   ],
   "source": [
    "# Make predictions using the training data\n",
    "y_act_train = y_train_encoded.T\n",
    "y_pred_train = model.predict(X_train_scaled.T)\n",
    "\n",
    "# Evaluate the performance of the model based upon the training data\n",
    "eval_train = evaluate(y_pred_train, y_act_train )\n",
    "print(f\"Prediction Performance using Training Data ({np.size(y_act_train)} examples):\")\n",
    "print(f\"\\tAccuracy: {eval_train['accuracy']:0.4f}\")\n",
    "print(f\"\\tProbability of Predicting Correctly when Actual Label is Target Digit: {eval_train['proba_label_1']:0.4f}\")\n",
    "print(f\"\\tProbability of Predicting Correctly when Actual Label is Not the Target Digit: {eval_train['proba_label_0']:0.4f}\")\n",
    "print(\"\")\n",
    "\n",
    "# Make predictions using the testing data\n",
    "y_act_test = y_test_encoded.T\n",
    "y_pred_test = model.predict(X_test_scaled.T)\n",
    "\n",
    "# Evaluate the performance of the model based upon the training data\n",
    "eval_test = evaluate(y_pred_test, y_act_test )\n",
    "print(f\"Prediction Performance using Testing Data ({np.size(y_act_test)} examples):\")\n",
    "print(f\"\\tAccuracy: {eval_test['accuracy']:0.4f}\")\n",
    "print(f\"\\tProbability of Predicting Correctly when Actual Label is Target Digit: {eval_test['proba_label_1']:0.4f}\")\n",
    "print(f\"\\tProbability of Predicting Correctly when Actual Label is Not the Target Digit: {eval_test['proba_label_0']:0.4f}\")\n"
   ]
  },
  {
   "cell_type": "markdown",
   "metadata": {},
   "source": [
    "# Plot the Model Fitting History"
   ]
  },
  {
   "cell_type": "code",
   "execution_count": 80,
   "metadata": {},
   "outputs": [
    {
     "data": {
      "image/png": "[encoded data removed]",
      "text/plain": [
       "<Figure size 1440x720 with 2 Axes>"
      ]
     },
     "metadata": {
      "needs_background": "light"
     },
     "output_type": "display_data"
    }
   ],
   "source": [
    "fit_results = model.get_hist()\n",
    "plot_fit_history(fit_results, eval_test )"
   ]
  },
  {
   "cell_type": "code",
   "execution_count": 81,
   "metadata": {},
   "outputs": [
    {
     "data": {
      "text/plain": [
       "(923, 87)"
      ]
     },
     "execution_count": 81,
     "metadata": {},
     "output_type": "execute_result"
    }
   ],
   "source": [
    "r_df = pd.DataFrame( {'Predicted': y_pred_test.reshape(-1), 'Actual': y_act_test.reshape(-1) } )\n",
    "r_df['Correct'] = r_df['Predicted'] == r_df['Actual']\n",
    "\n",
    "len(r_df[ (r_df['Actual'] == 1) & (r_df['Correct'] == True) ]), len(r_df[ (r_df['Actual'] == 1) & (r_df['Correct'] == False) ])"
   ]
  },
  {
   "cell_type": "code",
   "execution_count": null,
   "metadata": {},
   "outputs": [],
   "source": []
  },
  {
   "cell_type": "code",
   "execution_count": null,
   "metadata": {},
   "outputs": [],
   "source": []
  }
 ],
 "metadata": {
  "anaconda-cloud": {},
  "kernelspec": {
   "display_name": "Python 3",
   "language": "python",
   "name": "python3"
  },
  "language_info": {
   "codemirror_mode": {
    "name": "ipython",
    "version": 3
   },
   "file_extension": ".py",
   "mimetype": "text/x-python",
   "name": "python",
   "nbconvert_exporter": "python",
   "pygments_lexer": "ipython3",
   "version": "3.6.9"
  },
  "nbpresent": {
   "slides": {
    "03210a56-863e-4749-b7ba-ed75bfceceee": {
     "id": "03210a56-863e-4749-b7ba-ed75bfceceee",
     "prev": "86b3b05f-6e9a-49dc-8a83-97f72c348c5f",
     "regions": {
      "2be9481c-cff7-4f32-b835-90f2a2cb989a": {
       "attrs": {
        "height": 0.8,
        "width": 0.8,
        "x": 0.1,
        "y": 0.1
       },
       "content": {
        "cell": "46550b81-7dd8-4efc-b710-0f10002c9f2b",
        "part": "whole"
       },
       "id": "2be9481c-cff7-4f32-b835-90f2a2cb989a"
      },
      "3f484569-30ec-4529-8d3c-ac88b8c6dbfb": {
       "attrs": {
        "height": 0.4,
        "width": 0.8,
        "x": 0.1,
        "y": 0.5
       },
       "content": {
        "cell": "2b83c32a-d7e2-4db6-b45f-afbbf028fe90",
        "part": "whole"
       },
       "id": "3f484569-30ec-4529-8d3c-ac88b8c6dbfb"
      }
     }
    },
    "22531930-3fc8-45ff-a4f1-32e94c1d1455": {
     "id": "22531930-3fc8-45ff-a4f1-32e94c1d1455",
     "prev": "8eb735f6-11af-4f77-a4ed-b637fb18ac08",
     "regions": {
      "1407c818-c9fd-470e-8260-6b6904d888de": {
       "attrs": {
        "height": 0.8,
        "width": 0.8,
        "x": 0.1,
        "y": 0.1
       },
       "content": {
        "cell": "664c64ef-5517-4725-95cb-874bbc7711c7",
        "part": "whole"
       },
       "id": "1407c818-c9fd-470e-8260-6b6904d888de"
      }
     }
    },
    "29c55765-6994-4dbf-b82f-117b4f1e0cee": {
     "id": "29c55765-6994-4dbf-b82f-117b4f1e0cee",
     "prev": "b7c25bc1-4dd7-421b-9951-0c0c403c176d",
     "regions": {
      "44583f15-ec4f-4aec-8e7c-f01652e954fc": {
       "attrs": {
        "height": 0.8,
        "width": 0.8,
        "x": 0.1,
        "y": 0.1
       },
       "content": {
        "cell": "7c23961d-86fe-4d07-bc58-6d61f03c3731",
        "part": "whole"
       },
       "id": "44583f15-ec4f-4aec-8e7c-f01652e954fc"
      }
     }
    },
    "39c5764b-ab2c-4aae-8500-dc39319e4d38": {
     "id": "39c5764b-ab2c-4aae-8500-dc39319e4d38",
     "prev": "22531930-3fc8-45ff-a4f1-32e94c1d1455",
     "regions": {
      "d0237596-8095-44dc-81c6-6d9c6b204684": {
       "attrs": {
        "height": 0.8,
        "width": 0.8,
        "x": 0.1,
        "y": 0.1
       },
       "content": {
        "cell": "348e164e-a000-4def-92c0-db93f9a617a1",
        "part": "whole"
       },
       "id": "d0237596-8095-44dc-81c6-6d9c6b204684"
      }
     }
    },
    "39e950f1-f2c4-422a-8f45-835c5c61e7e0": {
     "id": "39e950f1-f2c4-422a-8f45-835c5c61e7e0",
     "prev": "4b5f1824-db4a-4ef3-9515-a88d3f2276c1",
     "regions": {
      "0a72cc48-c38f-4e8c-94d3-3198eccde68a": {
       "attrs": {
        "height": 0.8,
        "width": 0.8,
        "x": 0.1,
        "y": 0.1
       },
       "content": {
        "cell": "c3820b22-bf55-4dca-ba8b-f08060567b6e",
        "part": "whole"
       },
       "id": "0a72cc48-c38f-4e8c-94d3-3198eccde68a"
      },
      "b49c6eca-318f-41b8-a7a5-a620d18f639c": {
       "attrs": {
        "height": 0.4,
        "width": 0.8,
        "x": 0.1,
        "y": 0.5
       },
       "content": {
        "cell": "aeeeb44d-7825-4050-b7ba-70813bd3396b",
        "part": "whole"
       },
       "id": "b49c6eca-318f-41b8-a7a5-a620d18f639c"
      }
     }
    },
    "4792c0cc-ccd4-48bf-9b0e-a3c1f0f3008d": {
     "id": "4792c0cc-ccd4-48bf-9b0e-a3c1f0f3008d",
     "prev": "39c5764b-ab2c-4aae-8500-dc39319e4d38",
     "regions": {
      "d4adae26-ff2f-4a81-ad91-fd3a9bfd965c": {
       "attrs": {
        "height": 0.4,
        "width": 0.8,
        "x": 0.1,
        "y": 0.5
       },
       "content": {
        "cell": "4d6b8af6-438e-4034-bda1-1f977cf12441",
        "part": "whole"
       },
       "id": "d4adae26-ff2f-4a81-ad91-fd3a9bfd965c"
      },
      "d75a8261-ee89-4f4d-b388-2f429e112f44": {
       "attrs": {
        "height": 0.8,
        "width": 0.8,
        "x": 0.1,
        "y": 0.1
       },
       "content": {
        "cell": "a3b6e99c-2c85-47da-b29b-3b53c3c309b8",
        "part": "whole"
       },
       "id": "d75a8261-ee89-4f4d-b388-2f429e112f44"
      }
     }
    },
    "4b5f1824-db4a-4ef3-9515-a88d3f2276c1": {
     "id": "4b5f1824-db4a-4ef3-9515-a88d3f2276c1",
     "prev": "e92a9020-6631-400a-aa50-46c1fa0a5f0c",
     "regions": {
      "2bd81133-11e3-48df-bf12-2d0a57949bca": {
       "attrs": {
        "height": 0.8,
        "width": 0.8,
        "x": 0.1,
        "y": 0.1
       },
       "content": {
        "cell": "69fab88f-0864-47cc-933b-eaffb638cbf3",
        "part": "whole"
       },
       "id": "2bd81133-11e3-48df-bf12-2d0a57949bca"
      },
      "d3322861-28ab-4f1e-8a1f-3a7f4d3da8c1": {
       "attrs": {
        "height": 0.4,
        "width": 0.8,
        "x": 0.1,
        "y": 0.5
       },
       "content": {
        "cell": "3810c2af-fdbe-4f01-bc9f-2bb1a8ae70c6",
        "part": "whole"
       },
       "id": "d3322861-28ab-4f1e-8a1f-3a7f4d3da8c1"
      }
     }
    },
    "57992fb9-2f74-4e8e-8772-7b9f04606a56": {
     "id": "57992fb9-2f74-4e8e-8772-7b9f04606a56",
     "prev": "595093b4-3f86-406c-abb5-aea78e1241b3",
     "regions": {
      "3b3c8191-9f7e-4ab2-afac-b2b47008484a": {
       "attrs": {
        "height": 0.8,
        "width": 0.8,
        "x": 0.1,
        "y": 0.1
       },
       "content": {
        "cell": "a6d0bdff-9bba-472e-b354-da47b8761dbe",
        "part": "whole"
       },
       "id": "3b3c8191-9f7e-4ab2-afac-b2b47008484a"
      }
     }
    },
    "5907f515-df93-4e86-82c6-b8721b6e6346": {
     "id": "5907f515-df93-4e86-82c6-b8721b6e6346",
     "prev": "39e950f1-f2c4-422a-8f45-835c5c61e7e0",
     "regions": {
      "22f9005a-ed7a-4399-b501-497565ada2da": {
       "attrs": {
        "height": 0.8,
        "width": 0.8,
        "x": 0.1,
        "y": 0.1
       },
       "content": {
        "cell": "2e255efc-6ae1-4554-b32f-9400b47007c9",
        "part": "whole"
       },
       "id": "22f9005a-ed7a-4399-b501-497565ada2da"
      },
      "82d64cef-48f7-413c-ad01-e7fa2921f7c0": {
       "attrs": {
        "height": 0.4,
        "width": 0.8,
        "x": 0.1,
        "y": 0.5
       },
       "content": {
        "cell": "711a40c8-c479-448b-a3bc-5c7ff8369838",
        "part": "whole"
       },
       "id": "82d64cef-48f7-413c-ad01-e7fa2921f7c0"
      },
      "d943d3ea-6cd3-4d4a-8914-7fea0231efda": {
       "attrs": {
        "height": 0.4,
        "width": 0.8,
        "x": 0.1,
        "y": 0.5
       },
       "content": {
        "cell": "9bfbb27b-cae0-4feb-809a-77718bb2e6a3",
        "part": "whole"
       },
       "id": "d943d3ea-6cd3-4d4a-8914-7fea0231efda"
      }
     }
    },
    "595093b4-3f86-406c-abb5-aea78e1241b3": {
     "id": "595093b4-3f86-406c-abb5-aea78e1241b3",
     "prev": "5907f515-df93-4e86-82c6-b8721b6e6346",
     "regions": {
      "3366a1dc-6c33-45f0-a97f-a2744ed0587f": {
       "attrs": {
        "height": 0.8,
        "width": 0.8,
        "x": 0.1,
        "y": 0.1
       },
       "content": {
        "cell": "e54b79a1-316d-4fd1-ad5f-6cd580b51f99",
        "part": "whole"
       },
       "id": "3366a1dc-6c33-45f0-a97f-a2744ed0587f"
      },
      "40b6dba8-5994-4fd0-9ce5-9d36f3bb9f93": {
       "attrs": {
        "height": 0.4,
        "width": 0.8,
        "x": 0.1,
        "y": 0.5
       },
       "content": {
        "cell": "3d860568-b048-40f2-a64d-f585211d6c1c",
        "part": "whole"
       },
       "id": "40b6dba8-5994-4fd0-9ce5-9d36f3bb9f93"
      }
     }
    },
    "76838eab-c2c3-4ff3-b09f-854a7c74c6d4": {
     "id": "76838eab-c2c3-4ff3-b09f-854a7c74c6d4",
     "prev": null,
     "regions": {
      "b0032c00-1d89-4c94-a7a0-488f243c381e": {
       "attrs": {
        "height": 0.8,
        "width": 0.8,
        "x": 0.1,
        "y": 0.1
       },
       "content": {
        "cell": "0dc0cdcb-d8df-4a29-a0d2-a3cf6cc889ce",
        "part": "whole"
       },
       "id": "b0032c00-1d89-4c94-a7a0-488f243c381e"
      }
     }
    },
    "7a25817a-e5bc-4021-9c6b-61bc74dbdb92": {
     "id": "7a25817a-e5bc-4021-9c6b-61bc74dbdb92",
     "prev": "b04719fc-934a-404b-a642-dc732a3d1589",
     "regions": {
      "38d56409-500a-45cf-8e79-722d68d8fc38": {
       "attrs": {
        "height": 0.8,
        "width": 0.8,
        "x": 0.1,
        "y": 0.1
       },
       "content": {
        "cell": "335f050d-99af-43b3-a5ec-69fe896e48e2",
        "part": "whole"
       },
       "id": "38d56409-500a-45cf-8e79-722d68d8fc38"
      },
      "c838cb6d-409c-4c17-a1eb-3d7dc6aab32b": {
       "attrs": {
        "height": 0.4,
        "width": 0.8,
        "x": 0.1,
        "y": 0.5
       },
       "content": {
        "cell": "19ca6a7e-4b5d-4b0f-88c5-e68634abb65d",
        "part": "whole"
       },
       "id": "c838cb6d-409c-4c17-a1eb-3d7dc6aab32b"
      }
     }
    },
    "86b3b05f-6e9a-49dc-8a83-97f72c348c5f": {
     "id": "86b3b05f-6e9a-49dc-8a83-97f72c348c5f",
     "prev": "57992fb9-2f74-4e8e-8772-7b9f04606a56",
     "regions": {
      "49a41ef6-224d-46c1-bb81-254b8a4cee88": {
       "attrs": {
        "height": 0.8,
        "width": 0.8,
        "x": 0.1,
        "y": 0.1
       },
       "content": {
        "cell": "d7df6fa0-ce96-4073-b95d-ce78b3f4fdf1",
        "part": "whole"
       },
       "id": "49a41ef6-224d-46c1-bb81-254b8a4cee88"
      },
      "7ce316ab-4799-4e15-b095-374da21bc1aa": {
       "attrs": {
        "height": 0.4,
        "width": 0.8,
        "x": 0.1,
        "y": 0.5
       },
       "content": {
        "cell": "4a5226b5-d431-4cbe-86a6-291952a45a37",
        "part": "whole"
       },
       "id": "7ce316ab-4799-4e15-b095-374da21bc1aa"
      },
      "a7d701c6-61e3-48e3-8e0d-a4b318aef7d8": {
       "attrs": {
        "height": 0.4,
        "width": 0.8,
        "x": 0.1,
        "y": 0.5
       },
       "content": {
        "cell": "5e425283-82de-4c48-b2ae-31a1d6983849",
        "part": "whole"
       },
       "id": "a7d701c6-61e3-48e3-8e0d-a4b318aef7d8"
      },
      "e180cf23-71a7-46a8-8598-86a079bd7d78": {
       "attrs": {
        "height": 0.4,
        "width": 0.8,
        "x": 0.1,
        "y": 0.5
       },
       "content": {
        "cell": "28aaab45-1e14-4db5-9d2c-63b239cafe13",
        "part": "whole"
       },
       "id": "e180cf23-71a7-46a8-8598-86a079bd7d78"
      }
     }
    },
    "8eb735f6-11af-4f77-a4ed-b637fb18ac08": {
     "id": "8eb735f6-11af-4f77-a4ed-b637fb18ac08",
     "prev": "7a25817a-e5bc-4021-9c6b-61bc74dbdb92",
     "regions": {
      "ca38ef02-01f9-42cb-9e35-d67f8d665597": {
       "attrs": {
        "height": 0.4,
        "width": 0.8,
        "x": 0.1,
        "y": 0.5
       },
       "content": {
        "cell": "69b638ed-ed32-4824-bb81-df958c215a33",
        "part": "whole"
       },
       "id": "ca38ef02-01f9-42cb-9e35-d67f8d665597"
      },
      "fc52547b-a8f8-40e2-9397-5b18ca2b71b3": {
       "attrs": {
        "height": 0.8,
        "width": 0.8,
        "x": 0.1,
        "y": 0.1
       },
       "content": {
        "cell": "7317e4f2-150e-4336-ac48-d82641441aa8",
        "part": "whole"
       },
       "id": "fc52547b-a8f8-40e2-9397-5b18ca2b71b3"
      }
     }
    },
    "af2f5933-b31d-4d30-b08a-e4c09432b9bb": {
     "id": "af2f5933-b31d-4d30-b08a-e4c09432b9bb",
     "prev": "29c55765-6994-4dbf-b82f-117b4f1e0cee",
     "regions": {
      "479b436f-50bb-4c3a-9a4e-748e85eacde6": {
       "attrs": {
        "height": 0.8,
        "width": 0.8,
        "x": 0.1,
        "y": 0.1
       },
       "content": {
        "cell": "6d53481c-69ff-41a0-937e-4e8a39e2b2b5",
        "part": "whole"
       },
       "id": "479b436f-50bb-4c3a-9a4e-748e85eacde6"
      },
      "a02a5bdc-cab5-4ddc-aa9d-8ee5e0db6bd4": {
       "attrs": {
        "height": 0.4,
        "width": 0.8,
        "x": 0.1,
        "y": 0.5
       },
       "content": {
        "cell": "b0f8400f-71e1-4892-9012-88e54c053a36",
        "part": "whole"
       },
       "id": "a02a5bdc-cab5-4ddc-aa9d-8ee5e0db6bd4"
      }
     }
    },
    "b04719fc-934a-404b-a642-dc732a3d1589": {
     "id": "b04719fc-934a-404b-a642-dc732a3d1589",
     "prev": "af2f5933-b31d-4d30-b08a-e4c09432b9bb",
     "regions": {
      "701cdc94-3399-40dc-8e45-10d6edbf0959": {
       "attrs": {
        "height": 0.4,
        "width": 0.8,
        "x": 0.1,
        "y": 0.5
       },
       "content": {
        "cell": "fa78fa75-54cf-40d3-b52c-4b51c5070d9a",
        "part": "whole"
       },
       "id": "701cdc94-3399-40dc-8e45-10d6edbf0959"
      },
      "81f01069-a0c6-4ab1-98d1-d465e96aac6d": {
       "attrs": {
        "height": 0.8,
        "width": 0.8,
        "x": 0.1,
        "y": 0.1
       },
       "content": {
        "cell": "fb58a52c-71e9-402d-af86-eab194cf8050",
        "part": "whole"
       },
       "id": "81f01069-a0c6-4ab1-98d1-d465e96aac6d"
      },
      "ae73fc9b-89cf-4405-ab54-34e6c8b73a19": {
       "attrs": {
        "height": 0.4,
        "width": 0.8,
        "x": 0.1,
        "y": 0.5
       },
       "content": {
        "cell": "241f356d-567a-421d-b27c-7ce2d146d1bb",
        "part": "whole"
       },
       "id": "ae73fc9b-89cf-4405-ab54-34e6c8b73a19"
      }
     }
    },
    "b7c25bc1-4dd7-421b-9951-0c0c403c176d": {
     "id": "b7c25bc1-4dd7-421b-9951-0c0c403c176d",
     "prev": "76838eab-c2c3-4ff3-b09f-854a7c74c6d4",
     "regions": {
      "47f524f5-68f8-49df-9a61-61eab6cab03c": {
       "attrs": {
        "height": 0.4,
        "width": 0.8,
        "x": 0.1,
        "y": 0.5
       },
       "content": {
        "cell": "966e050d-5739-4ef9-a2ae-9a4957e14f3e",
        "part": "whole"
       },
       "id": "47f524f5-68f8-49df-9a61-61eab6cab03c"
      },
      "4b3ba01a-29e7-4e67-ac78-988162f7dde9": {
       "attrs": {
        "height": 0.8,
        "width": 0.8,
        "x": 0.1,
        "y": 0.1
       },
       "content": {
        "cell": "91401f60-44eb-42b2-86ea-c82b5e955ace",
        "part": "whole"
       },
       "id": "4b3ba01a-29e7-4e67-ac78-988162f7dde9"
      },
      "a47d9662-0a49-4b84-aae0-908067552ebd": {
       "attrs": {
        "height": 0.4,
        "width": 0.8,
        "x": 0.1,
        "y": 0.5
       },
       "content": {
        "cell": "6de4dae8-c949-4927-89a3-9741aba83e8d",
        "part": "whole"
       },
       "id": "a47d9662-0a49-4b84-aae0-908067552ebd"
      },
      "e64668fe-aafe-4e24-a46d-6a6266eeee77": {
       "attrs": {
        "height": 0.4,
        "width": 0.8,
        "x": 0.1,
        "y": 0.5
       },
       "content": {
        "cell": "7068c96d-f8f0-42bb-bdfd-dcbf9335323c",
        "part": "whole"
       },
       "id": "e64668fe-aafe-4e24-a46d-6a6266eeee77"
      }
     }
    },
    "d3ecec0a-67fe-4558-a268-50695fd7fe1c": {
     "id": "d3ecec0a-67fe-4558-a268-50695fd7fe1c",
     "prev": "fcda7de6-cb93-4b63-9dea-d5f23fecd968",
     "regions": {
      "b268bb57-2543-4b91-b9c0-84aa3cf09d5c": {
       "attrs": {
        "height": 0.8,
        "width": 0.8,
        "x": 0.1,
        "y": 0.1
       },
       "content": {
        "cell": "67aab8fa-45cd-4ede-8285-e3dad22d8b16",
        "part": "whole"
       },
       "id": "b268bb57-2543-4b91-b9c0-84aa3cf09d5c"
      }
     }
    },
    "e92a9020-6631-400a-aa50-46c1fa0a5f0c": {
     "id": "e92a9020-6631-400a-aa50-46c1fa0a5f0c",
     "prev": "ee94ae9b-9e13-414c-a017-db1d8913aaa8",
     "regions": {
      "bb15b4ea-132f-4146-ab77-93a4969c2904": {
       "attrs": {
        "height": 0.8,
        "width": 0.8,
        "x": 0.1,
        "y": 0.1
       },
       "content": {
        "cell": "7d5d2002-5cae-4d5f-8e2e-d5eaf5cd17da",
        "part": "whole"
       },
       "id": "bb15b4ea-132f-4146-ab77-93a4969c2904"
      }
     }
    },
    "ee94ae9b-9e13-414c-a017-db1d8913aaa8": {
     "id": "ee94ae9b-9e13-414c-a017-db1d8913aaa8",
     "prev": "f8fce519-927e-4fd0-88d8-23ece4403794",
     "regions": {
      "0b578bb1-2cd1-480b-8d65-dde0861851cb": {
       "attrs": {
        "height": 0.8,
        "width": 0.8,
        "x": 0.1,
        "y": 0.1
       },
       "content": {
        "cell": "f1c699bc-6717-4eb9-8e6d-66d433ba4618",
        "part": "whole"
       },
       "id": "0b578bb1-2cd1-480b-8d65-dde0861851cb"
      }
     }
    },
    "f8fce519-927e-4fd0-88d8-23ece4403794": {
     "id": "f8fce519-927e-4fd0-88d8-23ece4403794",
     "prev": "4792c0cc-ccd4-48bf-9b0e-a3c1f0f3008d",
     "regions": {
      "7510ae01-fe22-48b0-92cb-29b880cc85fc": {
       "attrs": {
        "height": 0.8,
        "width": 0.8,
        "x": 0.1,
        "y": 0.1
       },
       "content": {
        "cell": "e61ba538-5828-4a5a-a2c5-4fcceac35889",
        "part": "whole"
       },
       "id": "7510ae01-fe22-48b0-92cb-29b880cc85fc"
      }
     }
    },
    "fcda7de6-cb93-4b63-9dea-d5f23fecd968": {
     "id": "fcda7de6-cb93-4b63-9dea-d5f23fecd968",
     "prev": "03210a56-863e-4749-b7ba-ed75bfceceee",
     "regions": {
      "43f5b3bd-9e0c-4a98-a18c-1b9f7beaa3b8": {
       "attrs": {
        "height": 0.8,
        "width": 0.8,
        "x": 0.1,
        "y": 0.1
       },
       "content": {
        "cell": "318099ba-93dd-4c2c-a3ee-fc6622c472c8",
        "part": "whole"
       },
       "id": "43f5b3bd-9e0c-4a98-a18c-1b9f7beaa3b8"
      },
      "dbab9920-f08a-457a-949d-2c8289707798": {
       "attrs": {
        "height": 0.4,
        "width": 0.8,
        "x": 0.1,
        "y": 0.5
       },
       "content": {
        "cell": "8bb35ef7-00cc-4ad9-9dd4-6fac480df38e",
        "part": "whole"
       },
       "id": "dbab9920-f08a-457a-949d-2c8289707798"
      }
     }
    }
   },
   "themes": {}
  },
  "varInspector": {
   "cols": {
    "lenName": 16,
    "lenType": 16,
    "lenVar": 40
   },
   "kernels_config": {
    "python": {
     "delete_cmd_postfix": "",
     "delete_cmd_prefix": "del ",
     "library": "var_list.py",
     "varRefreshCmd": "print(var_dic_list())"
    },
    "r": {
     "delete_cmd_postfix": ") ",
     "delete_cmd_prefix": "rm(",
     "library": "var_list.r",
     "varRefreshCmd": "cat(var_dic_list()) "
    }
   },
   "types_to_exclude": [
    "module",
    "function",
    "builtin_function_or_method",
    "instance",
    "_Feature"
   ],
   "window_display": false
  }
 },
 "nbformat": 4,
 "nbformat_minor": 2
}
